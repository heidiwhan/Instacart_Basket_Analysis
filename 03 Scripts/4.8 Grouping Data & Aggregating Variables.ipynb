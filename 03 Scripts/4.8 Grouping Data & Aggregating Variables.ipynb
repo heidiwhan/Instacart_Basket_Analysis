{
 "cells": [
  {
   "cell_type": "markdown",
   "id": "132a4f88",
   "metadata": {},
   "source": [
    "# 4.8: Grouping Data & Aggregating Variables\n",
    "\n",
    "In this notebook, we will be grouping and aggregating data to derive new insights and create new variables.\n"
   ]
  },
  {
   "cell_type": "code",
   "execution_count": 5,
   "id": "008edfdb",
   "metadata": {},
   "outputs": [
    {
     "data": {
      "text/html": [
       "<div>\n",
       "<style scoped>\n",
       "    .dataframe tbody tr th:only-of-type {\n",
       "        vertical-align: middle;\n",
       "    }\n",
       "\n",
       "    .dataframe tbody tr th {\n",
       "        vertical-align: top;\n",
       "    }\n",
       "\n",
       "    .dataframe thead th {\n",
       "        text-align: right;\n",
       "    }\n",
       "</style>\n",
       "<table border=\"1\" class=\"dataframe\">\n",
       "  <thead>\n",
       "    <tr style=\"text-align: right;\">\n",
       "      <th></th>\n",
       "      <th>order_id</th>\n",
       "      <th>user_id</th>\n",
       "      <th>order_number</th>\n",
       "      <th>day_of_week</th>\n",
       "      <th>order_hour_of_day</th>\n",
       "      <th>days_since_prior_order</th>\n",
       "      <th>product_id</th>\n",
       "      <th>add_to_cart_order</th>\n",
       "      <th>reordered</th>\n",
       "      <th>_merge_existing</th>\n",
       "      <th>product_name</th>\n",
       "      <th>aisle_id</th>\n",
       "      <th>department_id</th>\n",
       "      <th>prices</th>\n",
       "      <th>_merge</th>\n",
       "      <th>price_label</th>\n",
       "      <th>busiest_day</th>\n",
       "      <th>busiest_days_updated</th>\n",
       "    </tr>\n",
       "  </thead>\n",
       "  <tbody>\n",
       "    <tr>\n",
       "      <th>0</th>\n",
       "      <td>2539329</td>\n",
       "      <td>1</td>\n",
       "      <td>1</td>\n",
       "      <td>2</td>\n",
       "      <td>8</td>\n",
       "      <td>NaN</td>\n",
       "      <td>196</td>\n",
       "      <td>1</td>\n",
       "      <td>0</td>\n",
       "      <td>both</td>\n",
       "      <td>Soda</td>\n",
       "      <td>77</td>\n",
       "      <td>7</td>\n",
       "      <td>9.0</td>\n",
       "      <td>both</td>\n",
       "      <td>Mid-range product</td>\n",
       "      <td>Regularly busy</td>\n",
       "      <td>Regularly busy</td>\n",
       "    </tr>\n",
       "    <tr>\n",
       "      <th>1</th>\n",
       "      <td>2398795</td>\n",
       "      <td>1</td>\n",
       "      <td>2</td>\n",
       "      <td>3</td>\n",
       "      <td>7</td>\n",
       "      <td>15.0</td>\n",
       "      <td>196</td>\n",
       "      <td>1</td>\n",
       "      <td>1</td>\n",
       "      <td>both</td>\n",
       "      <td>Soda</td>\n",
       "      <td>77</td>\n",
       "      <td>7</td>\n",
       "      <td>9.0</td>\n",
       "      <td>both</td>\n",
       "      <td>Mid-range product</td>\n",
       "      <td>Regularly busy</td>\n",
       "      <td>Slowest days</td>\n",
       "    </tr>\n",
       "    <tr>\n",
       "      <th>2</th>\n",
       "      <td>473747</td>\n",
       "      <td>1</td>\n",
       "      <td>3</td>\n",
       "      <td>3</td>\n",
       "      <td>12</td>\n",
       "      <td>21.0</td>\n",
       "      <td>196</td>\n",
       "      <td>1</td>\n",
       "      <td>1</td>\n",
       "      <td>both</td>\n",
       "      <td>Soda</td>\n",
       "      <td>77</td>\n",
       "      <td>7</td>\n",
       "      <td>9.0</td>\n",
       "      <td>both</td>\n",
       "      <td>Mid-range product</td>\n",
       "      <td>Regularly busy</td>\n",
       "      <td>Slowest days</td>\n",
       "    </tr>\n",
       "    <tr>\n",
       "      <th>3</th>\n",
       "      <td>2254736</td>\n",
       "      <td>1</td>\n",
       "      <td>4</td>\n",
       "      <td>4</td>\n",
       "      <td>7</td>\n",
       "      <td>29.0</td>\n",
       "      <td>196</td>\n",
       "      <td>1</td>\n",
       "      <td>1</td>\n",
       "      <td>both</td>\n",
       "      <td>Soda</td>\n",
       "      <td>77</td>\n",
       "      <td>7</td>\n",
       "      <td>9.0</td>\n",
       "      <td>both</td>\n",
       "      <td>Mid-range product</td>\n",
       "      <td>Least busy</td>\n",
       "      <td>Slowest days</td>\n",
       "    </tr>\n",
       "    <tr>\n",
       "      <th>4</th>\n",
       "      <td>431534</td>\n",
       "      <td>1</td>\n",
       "      <td>5</td>\n",
       "      <td>4</td>\n",
       "      <td>15</td>\n",
       "      <td>28.0</td>\n",
       "      <td>196</td>\n",
       "      <td>1</td>\n",
       "      <td>1</td>\n",
       "      <td>both</td>\n",
       "      <td>Soda</td>\n",
       "      <td>77</td>\n",
       "      <td>7</td>\n",
       "      <td>9.0</td>\n",
       "      <td>both</td>\n",
       "      <td>Mid-range product</td>\n",
       "      <td>Least busy</td>\n",
       "      <td>Slowest days</td>\n",
       "    </tr>\n",
       "  </tbody>\n",
       "</table>\n",
       "</div>"
      ],
      "text/plain": [
       "   order_id  user_id  order_number  day_of_week  order_hour_of_day  \\\n",
       "0   2539329        1             1            2                  8   \n",
       "1   2398795        1             2            3                  7   \n",
       "2    473747        1             3            3                 12   \n",
       "3   2254736        1             4            4                  7   \n",
       "4    431534        1             5            4                 15   \n",
       "\n",
       "   days_since_prior_order  product_id  add_to_cart_order  reordered  \\\n",
       "0                     NaN         196                  1          0   \n",
       "1                    15.0         196                  1          1   \n",
       "2                    21.0         196                  1          1   \n",
       "3                    29.0         196                  1          1   \n",
       "4                    28.0         196                  1          1   \n",
       "\n",
       "  _merge_existing product_name  aisle_id  department_id  prices _merge  \\\n",
       "0            both         Soda        77              7     9.0   both   \n",
       "1            both         Soda        77              7     9.0   both   \n",
       "2            both         Soda        77              7     9.0   both   \n",
       "3            both         Soda        77              7     9.0   both   \n",
       "4            both         Soda        77              7     9.0   both   \n",
       "\n",
       "         price_label     busiest_day busiest_days_updated  \n",
       "0  Mid-range product  Regularly busy       Regularly busy  \n",
       "1  Mid-range product  Regularly busy         Slowest days  \n",
       "2  Mid-range product  Regularly busy         Slowest days  \n",
       "3  Mid-range product      Least busy         Slowest days  \n",
       "4  Mid-range product      Least busy         Slowest days  "
      ]
     },
     "execution_count": 5,
     "metadata": {},
     "output_type": "execute_result"
    }
   ],
   "source": [
    "# Import necessary libraries\n",
    "import pandas as pd\n",
    "import numpy as np\n",
    "import os\n",
    "\n",
    "# Create path to data directory\n",
    "path = r'C:\\Users\\mshhan\\Documents\\05-2024 Instacart Basket Analysis'\n",
    "\n",
    "# Load the merged data from the pickle file\n",
    "df_final = pd.read_pickle(os.path.join(path, '02 Data', 'Prepared Data', 'ords_prods_merge.pkl'))\n",
    "\n",
    "# Display the first few rows of the dataframe to understand its structure\n",
    "df_final.head()\n"
   ]
  },
  {
   "cell_type": "markdown",
   "id": "7fa9a2b8",
   "metadata": {},
   "source": [
    "## Group by 'department_id' and aggregate mean of 'order_number'\n"
   ]
  },
  {
   "cell_type": "code",
   "execution_count": 6,
   "id": "a1892659",
   "metadata": {},
   "outputs": [
    {
     "name": "stdout",
     "output_type": "stream",
     "text": [
      "    department_id  order_number\n",
      "0               1     15.457687\n",
      "1               2     17.277920\n",
      "2               3     17.179756\n",
      "3               4     17.811403\n",
      "4               5     15.215751\n",
      "5               6     16.439806\n",
      "6               7     17.225773\n",
      "7               8     15.340520\n",
      "8               9     15.895474\n",
      "9              10     20.197148\n",
      "10             11     16.170371\n",
      "11             12     15.887622\n",
      "12             13     16.583304\n",
      "13             14     16.759763\n",
      "14             15     16.165037\n",
      "15             16     17.663250\n",
      "16             17     15.694469\n",
      "17             18     19.310397\n",
      "18             19     17.177343\n",
      "19             20     16.473447\n",
      "20             21     22.902379\n"
     ]
    }
   ],
   "source": [
    "# Group by 'department_id' and aggregate mean of 'order_number'\n",
    "dept_order_mean = df_final.groupby('department_id').agg({'order_number': 'mean'}).reset_index()\n",
    "\n",
    "# Display the aggregated mean\n",
    "print(dept_order_mean)\n"
   ]
  },
  {
   "cell_type": "markdown",
   "id": "635b227e",
   "metadata": {},
   "source": [
    "#### Observations on Mean Order Number by Department\n",
    "The first noticeable observation when analyzing the mean order number for the entire dataframe, as opposed to a subset, is that there are significantly more departments listed. Overall, the mean order numbers tend to be higher for each department when considering the entire dataset."
   ]
  },
  {
   "cell_type": "markdown",
   "id": "b86c01d3",
   "metadata": {},
   "source": [
    "### Analyzing Results\n",
    "\n",
    "The mean order number for each department_id is as follows:\n",
    "- Department 4 (produce) has a mean of around 19 orders per user.\n",
    "- Department 17 (household) has a mean of around 11 orders per user.\n"
   ]
  },
  {
   "cell_type": "markdown",
   "id": "909cf4c2",
   "metadata": {},
   "source": [
    "### Creating Loyalty Flag\n",
    "\n",
    "#### Step 1: Create `max_order` Column\n"
   ]
  },
  {
   "cell_type": "code",
   "execution_count": 8,
   "id": "40334b80",
   "metadata": {},
   "outputs": [
    {
     "data": {
      "text/html": [
       "<div>\n",
       "<style scoped>\n",
       "    .dataframe tbody tr th:only-of-type {\n",
       "        vertical-align: middle;\n",
       "    }\n",
       "\n",
       "    .dataframe tbody tr th {\n",
       "        vertical-align: top;\n",
       "    }\n",
       "\n",
       "    .dataframe thead th {\n",
       "        text-align: right;\n",
       "    }\n",
       "</style>\n",
       "<table border=\"1\" class=\"dataframe\">\n",
       "  <thead>\n",
       "    <tr style=\"text-align: right;\">\n",
       "      <th></th>\n",
       "      <th>order_id</th>\n",
       "      <th>user_id</th>\n",
       "      <th>order_number</th>\n",
       "      <th>day_of_week</th>\n",
       "      <th>order_hour_of_day</th>\n",
       "      <th>days_since_prior_order</th>\n",
       "      <th>product_id</th>\n",
       "      <th>add_to_cart_order</th>\n",
       "      <th>reordered</th>\n",
       "      <th>_merge_existing</th>\n",
       "      <th>product_name</th>\n",
       "      <th>aisle_id</th>\n",
       "      <th>department_id</th>\n",
       "      <th>prices</th>\n",
       "      <th>_merge</th>\n",
       "      <th>price_label</th>\n",
       "      <th>busiest_day</th>\n",
       "      <th>busiest_days_updated</th>\n",
       "      <th>max_order</th>\n",
       "    </tr>\n",
       "  </thead>\n",
       "  <tbody>\n",
       "    <tr>\n",
       "      <th>0</th>\n",
       "      <td>2539329</td>\n",
       "      <td>1</td>\n",
       "      <td>1</td>\n",
       "      <td>2</td>\n",
       "      <td>8</td>\n",
       "      <td>NaN</td>\n",
       "      <td>196</td>\n",
       "      <td>1</td>\n",
       "      <td>0</td>\n",
       "      <td>both</td>\n",
       "      <td>Soda</td>\n",
       "      <td>77</td>\n",
       "      <td>7</td>\n",
       "      <td>9.0</td>\n",
       "      <td>both</td>\n",
       "      <td>Mid-range product</td>\n",
       "      <td>Regularly busy</td>\n",
       "      <td>Regularly busy</td>\n",
       "      <td>10</td>\n",
       "    </tr>\n",
       "    <tr>\n",
       "      <th>1</th>\n",
       "      <td>2398795</td>\n",
       "      <td>1</td>\n",
       "      <td>2</td>\n",
       "      <td>3</td>\n",
       "      <td>7</td>\n",
       "      <td>15.0</td>\n",
       "      <td>196</td>\n",
       "      <td>1</td>\n",
       "      <td>1</td>\n",
       "      <td>both</td>\n",
       "      <td>Soda</td>\n",
       "      <td>77</td>\n",
       "      <td>7</td>\n",
       "      <td>9.0</td>\n",
       "      <td>both</td>\n",
       "      <td>Mid-range product</td>\n",
       "      <td>Regularly busy</td>\n",
       "      <td>Slowest days</td>\n",
       "      <td>10</td>\n",
       "    </tr>\n",
       "    <tr>\n",
       "      <th>2</th>\n",
       "      <td>473747</td>\n",
       "      <td>1</td>\n",
       "      <td>3</td>\n",
       "      <td>3</td>\n",
       "      <td>12</td>\n",
       "      <td>21.0</td>\n",
       "      <td>196</td>\n",
       "      <td>1</td>\n",
       "      <td>1</td>\n",
       "      <td>both</td>\n",
       "      <td>Soda</td>\n",
       "      <td>77</td>\n",
       "      <td>7</td>\n",
       "      <td>9.0</td>\n",
       "      <td>both</td>\n",
       "      <td>Mid-range product</td>\n",
       "      <td>Regularly busy</td>\n",
       "      <td>Slowest days</td>\n",
       "      <td>10</td>\n",
       "    </tr>\n",
       "    <tr>\n",
       "      <th>3</th>\n",
       "      <td>2254736</td>\n",
       "      <td>1</td>\n",
       "      <td>4</td>\n",
       "      <td>4</td>\n",
       "      <td>7</td>\n",
       "      <td>29.0</td>\n",
       "      <td>196</td>\n",
       "      <td>1</td>\n",
       "      <td>1</td>\n",
       "      <td>both</td>\n",
       "      <td>Soda</td>\n",
       "      <td>77</td>\n",
       "      <td>7</td>\n",
       "      <td>9.0</td>\n",
       "      <td>both</td>\n",
       "      <td>Mid-range product</td>\n",
       "      <td>Least busy</td>\n",
       "      <td>Slowest days</td>\n",
       "      <td>10</td>\n",
       "    </tr>\n",
       "    <tr>\n",
       "      <th>4</th>\n",
       "      <td>431534</td>\n",
       "      <td>1</td>\n",
       "      <td>5</td>\n",
       "      <td>4</td>\n",
       "      <td>15</td>\n",
       "      <td>28.0</td>\n",
       "      <td>196</td>\n",
       "      <td>1</td>\n",
       "      <td>1</td>\n",
       "      <td>both</td>\n",
       "      <td>Soda</td>\n",
       "      <td>77</td>\n",
       "      <td>7</td>\n",
       "      <td>9.0</td>\n",
       "      <td>both</td>\n",
       "      <td>Mid-range product</td>\n",
       "      <td>Least busy</td>\n",
       "      <td>Slowest days</td>\n",
       "      <td>10</td>\n",
       "    </tr>\n",
       "  </tbody>\n",
       "</table>\n",
       "</div>"
      ],
      "text/plain": [
       "   order_id  user_id  order_number  day_of_week  order_hour_of_day  \\\n",
       "0   2539329        1             1            2                  8   \n",
       "1   2398795        1             2            3                  7   \n",
       "2    473747        1             3            3                 12   \n",
       "3   2254736        1             4            4                  7   \n",
       "4    431534        1             5            4                 15   \n",
       "\n",
       "   days_since_prior_order  product_id  add_to_cart_order  reordered  \\\n",
       "0                     NaN         196                  1          0   \n",
       "1                    15.0         196                  1          1   \n",
       "2                    21.0         196                  1          1   \n",
       "3                    29.0         196                  1          1   \n",
       "4                    28.0         196                  1          1   \n",
       "\n",
       "  _merge_existing product_name  aisle_id  department_id  prices _merge  \\\n",
       "0            both         Soda        77              7     9.0   both   \n",
       "1            both         Soda        77              7     9.0   both   \n",
       "2            both         Soda        77              7     9.0   both   \n",
       "3            both         Soda        77              7     9.0   both   \n",
       "4            both         Soda        77              7     9.0   both   \n",
       "\n",
       "         price_label     busiest_day busiest_days_updated  max_order  \n",
       "0  Mid-range product  Regularly busy       Regularly busy         10  \n",
       "1  Mid-range product  Regularly busy         Slowest days         10  \n",
       "2  Mid-range product  Regularly busy         Slowest days         10  \n",
       "3  Mid-range product      Least busy         Slowest days         10  \n",
       "4  Mid-range product      Least busy         Slowest days         10  "
      ]
     },
     "execution_count": 8,
     "metadata": {},
     "output_type": "execute_result"
    }
   ],
   "source": [
    "# Create 'max_order' column for each user\n",
    "df_final['max_order'] = df_final.groupby('user_id')['order_number'].transform('max')\n",
    "\n",
    "# Check the first few rows to confirm the new column\n",
    "df_final.head()\n"
   ]
  },
  {
   "cell_type": "markdown",
   "id": "002205de",
   "metadata": {},
   "source": [
    "#### Step 2: Create `loyalty_flag` Column\n"
   ]
  },
  {
   "cell_type": "code",
   "execution_count": 10,
   "id": "cefa924d",
   "metadata": {},
   "outputs": [
    {
     "name": "stdout",
     "output_type": "stream",
     "text": [
      "loyalty_flag\n",
      "Regular customer    15890458\n",
      "Loyal customer      10293434\n",
      "New customer         6249138\n",
      "Name: count, dtype: int64\n"
     ]
    }
   ],
   "source": [
    "# Create 'loyalty_flag' column based on 'max_order' values\n",
    "df_final.loc[df_final['max_order'] > 40, 'loyalty_flag'] = 'Loyal customer'\n",
    "df_final.loc[(df_final['max_order'] <= 40) & (df_final['max_order'] > 10), 'loyalty_flag'] = 'Regular customer'\n",
    "df_final.loc[df_final['max_order'] <= 10, 'loyalty_flag'] = 'New customer'\n",
    "\n",
    "# Display the frequency of each loyalty flag\n",
    "print(df_final['loyalty_flag'].value_counts())\n"
   ]
  },
  {
   "cell_type": "markdown",
   "id": "3e37c1a7",
   "metadata": {},
   "source": [
    "### Analyzing Spending Habits\n"
   ]
  },
  {
   "cell_type": "markdown",
   "id": "ad651591",
   "metadata": {},
   "source": [
    "#### Analysis of Spending Habits by Loyalty Category\n",
    "The marketing team at Instacart is interested in understanding if there are differences in the spending habits among the three types of customers identified by the loyalty flag. By analyzing the basic statistics of the product prices for each loyalty category (Loyal Customer, Regular Customer, and New Customer), we find that the average price of a product purchased by a new customer is approximately $3 higher than that of a loyal customer."
   ]
  },
  {
   "cell_type": "code",
   "execution_count": 11,
   "id": "e4cd20eb",
   "metadata": {},
   "outputs": [
    {
     "name": "stdout",
     "output_type": "stream",
     "text": [
      "       loyalty_flag     prices              \n",
      "                          mean  min      max\n",
      "0    Loyal customer  10.388854  1.0  99999.0\n",
      "1      New customer  13.294634  1.0  99999.0\n",
      "2  Regular customer  12.496419  1.0  99999.0\n"
     ]
    }
   ],
   "source": [
    "# Check the basic statistics of product prices for each loyalty category\n",
    "price_stats = df_final.groupby('loyalty_flag').agg({'prices': ['mean', 'min', 'max']}).reset_index()\n",
    "\n",
    "# Display the price statistics\n",
    "print(price_stats)\n",
    "\n"
   ]
  },
  {
   "cell_type": "markdown",
   "id": "68940324",
   "metadata": {},
   "source": [
    "### Targeting Different Types of Spenders\n",
    "\n",
    "The marketing team aims to target different types of spenders in their campaigns by examining the prices of items people are purchasing. We created a spending flag for each user based on the average price of all their orders. Users are categorized as “Low spender” if the mean price of their purchased products is lower than 10 USD and as “High spender” if it is 10 USD or higher.\n"
   ]
  },
  {
   "cell_type": "markdown",
   "id": "04be7c41",
   "metadata": {},
   "source": [
    "#### Creating Spending Flag\n"
   ]
  },
  {
   "cell_type": "code",
   "execution_count": 12,
   "id": "f7d6bd8f",
   "metadata": {},
   "outputs": [
    {
     "name": "stdout",
     "output_type": "stream",
     "text": [
      "spending_flag\n",
      "Low spender     31797576\n",
      "High spender      635454\n",
      "Name: count, dtype: int64\n"
     ]
    }
   ],
   "source": [
    "# Create 'spending_flag' based on mean prices\n",
    "df_final['avg_price'] = df_final.groupby('user_id')['prices'].transform('mean')\n",
    "\n",
    "df_final.loc[df_final['avg_price'] < 10, 'spending_flag'] = 'Low spender'\n",
    "df_final.loc[df_final['avg_price'] >= 10, 'spending_flag'] = 'High spender'\n",
    "\n",
    "# Display the frequency of each spending flag\n",
    "print(df_final['spending_flag'].value_counts())\n"
   ]
  },
  {
   "cell_type": "markdown",
   "id": "5e8b6f0e",
   "metadata": {},
   "source": [
    "#### Determining Frequent vs. Non-Frequent Customers\n",
    "\n",
    "To send relevant notifications within the app, such as reminders to repurchase items, Instacart wants to distinguish between frequent and non-frequent customers. We created an order frequency flag that categorizes users based on the median number of days between their orders. Users are labeled as “Non-frequent customer” if the median is greater than 20 days, “Regular customer” if it is between 10 and 20 days, and “Frequent customer” if it is 10 days or less. \n",
    "\n",
    "There are some rows that were not labeled, which could be due to users who have only made one order.\n"
   ]
  },
  {
   "cell_type": "markdown",
   "id": "66a6ce01",
   "metadata": {},
   "source": [
    "### Creating Order Frequency Flag\n"
   ]
  },
  {
   "cell_type": "code",
   "execution_count": 13,
   "id": "c5674cd5",
   "metadata": {},
   "outputs": [
    {
     "name": "stdout",
     "output_type": "stream",
     "text": [
      "order_frequency_flag\n",
      "Frequent customer        21576963\n",
      "Regular customer          7216644\n",
      "Non-frequent customer     3639423\n",
      "Name: count, dtype: int64\n"
     ]
    }
   ],
   "source": [
    "# Create 'order_frequency_flag' based on median 'days_since_prior_order'\n",
    "df_final['median_days_since_prior'] = df_final.groupby('user_id')['days_since_prior_order'].transform('median')\n",
    "\n",
    "df_final.loc[df_final['median_days_since_prior'] > 20, 'order_frequency_flag'] = 'Non-frequent customer'\n",
    "df_final.loc[(df_final['median_days_since_prior'] > 10) & (df_final['median_days_since_prior'] <= 20), 'order_frequency_flag'] = 'Regular customer'\n",
    "df_final.loc[df_final['median_days_since_prior'] <= 10, 'order_frequency_flag'] = 'Frequent customer'\n",
    "\n",
    "# Display the frequency of each order frequency flag\n",
    "print(df_final['order_frequency_flag'].value_counts())\n"
   ]
  },
  {
   "cell_type": "markdown",
   "id": "82b34f42",
   "metadata": {},
   "source": [
    "### Export the Updated Dataframe\n"
   ]
  },
  {
   "cell_type": "code",
   "execution_count": 14,
   "id": "01ca2b39",
   "metadata": {},
   "outputs": [],
   "source": [
    "# Export the updated dataframe as a pickle file\n",
    "df_final.to_pickle(os.path.join(path, '02 Data','Prepared Data', 'ords_prods_merge_updated.pkl'))\n"
   ]
  },
  {
   "cell_type": "code",
   "execution_count": null,
   "id": "b30c2ce7",
   "metadata": {},
   "outputs": [],
   "source": []
  }
 ],
 "metadata": {
  "kernelspec": {
   "display_name": "Python 3 (ipykernel)",
   "language": "python",
   "name": "python3"
  },
  "language_info": {
   "codemirror_mode": {
    "name": "ipython",
    "version": 3
   },
   "file_extension": ".py",
   "mimetype": "text/x-python",
   "name": "python",
   "nbconvert_exporter": "python",
   "pygments_lexer": "ipython3",
   "version": "3.11.7"
  }
 },
 "nbformat": 4,
 "nbformat_minor": 5
}
