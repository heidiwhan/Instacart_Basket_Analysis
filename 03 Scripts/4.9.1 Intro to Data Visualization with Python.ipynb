{
 "cells": [
  {
   "cell_type": "markdown",
   "id": "42839bed",
   "metadata": {},
   "source": [
    "# Task 4.9\n",
    "# Part 1\n",
    "\n",
    "## Step 3 - Import your analysis libraries, as well as your new customer data set as a dataframe\n"
   ]
  },
  {
   "cell_type": "code",
   "execution_count": 1,
   "id": "4a120e5b",
   "metadata": {},
   "outputs": [],
   "source": [
    "# Importing libraries\n",
    "import pandas as pd\n",
    "import numpy as np\n",
    "import os\n",
    "import matplotlib.pyplot as plt\n",
    "import seaborn as sns\n",
    "import scipy\n"
   ]
  },
  {
   "cell_type": "code",
   "execution_count": 7,
   "id": "e35cbc72",
   "metadata": {},
   "outputs": [],
   "source": [
    "# Path\n",
    "path = r'C:\\\\Users\\\\mshhan\\\\Documents\\\\05-2024 Instacart Basket Analysis'\n",
    "\n",
    "# Import new customer data\n",
    "customers = pd.read_csv(os.path.join(path, '02 Data', 'Original Data', 'customers.csv'))\n",
    "\n"
   ]
  },
  {
   "cell_type": "code",
   "execution_count": 8,
   "id": "d6bc38b3",
   "metadata": {},
   "outputs": [
    {
     "data": {
      "text/html": [
       "<div>\n",
       "<style scoped>\n",
       "    .dataframe tbody tr th:only-of-type {\n",
       "        vertical-align: middle;\n",
       "    }\n",
       "\n",
       "    .dataframe tbody tr th {\n",
       "        vertical-align: top;\n",
       "    }\n",
       "\n",
       "    .dataframe thead th {\n",
       "        text-align: right;\n",
       "    }\n",
       "</style>\n",
       "<table border=\"1\" class=\"dataframe\">\n",
       "  <thead>\n",
       "    <tr style=\"text-align: right;\">\n",
       "      <th></th>\n",
       "      <th>user_id</th>\n",
       "      <th>First Name</th>\n",
       "      <th>Surnam</th>\n",
       "      <th>Gender</th>\n",
       "      <th>STATE</th>\n",
       "      <th>Age</th>\n",
       "      <th>date_joined</th>\n",
       "      <th>n_dependants</th>\n",
       "      <th>fam_status</th>\n",
       "      <th>income</th>\n",
       "    </tr>\n",
       "  </thead>\n",
       "  <tbody>\n",
       "    <tr>\n",
       "      <th>0</th>\n",
       "      <td>26711</td>\n",
       "      <td>Deborah</td>\n",
       "      <td>Esquivel</td>\n",
       "      <td>Female</td>\n",
       "      <td>Missouri</td>\n",
       "      <td>48</td>\n",
       "      <td>1/1/2017</td>\n",
       "      <td>3</td>\n",
       "      <td>married</td>\n",
       "      <td>165665</td>\n",
       "    </tr>\n",
       "    <tr>\n",
       "      <th>1</th>\n",
       "      <td>33890</td>\n",
       "      <td>Patricia</td>\n",
       "      <td>Hart</td>\n",
       "      <td>Female</td>\n",
       "      <td>New Mexico</td>\n",
       "      <td>36</td>\n",
       "      <td>1/1/2017</td>\n",
       "      <td>0</td>\n",
       "      <td>single</td>\n",
       "      <td>59285</td>\n",
       "    </tr>\n",
       "    <tr>\n",
       "      <th>2</th>\n",
       "      <td>65803</td>\n",
       "      <td>Kenneth</td>\n",
       "      <td>Farley</td>\n",
       "      <td>Male</td>\n",
       "      <td>Idaho</td>\n",
       "      <td>35</td>\n",
       "      <td>1/1/2017</td>\n",
       "      <td>2</td>\n",
       "      <td>married</td>\n",
       "      <td>99568</td>\n",
       "    </tr>\n",
       "    <tr>\n",
       "      <th>3</th>\n",
       "      <td>125935</td>\n",
       "      <td>Michelle</td>\n",
       "      <td>Hicks</td>\n",
       "      <td>Female</td>\n",
       "      <td>Iowa</td>\n",
       "      <td>40</td>\n",
       "      <td>1/1/2017</td>\n",
       "      <td>0</td>\n",
       "      <td>single</td>\n",
       "      <td>42049</td>\n",
       "    </tr>\n",
       "    <tr>\n",
       "      <th>4</th>\n",
       "      <td>130797</td>\n",
       "      <td>Ann</td>\n",
       "      <td>Gilmore</td>\n",
       "      <td>Female</td>\n",
       "      <td>Maryland</td>\n",
       "      <td>26</td>\n",
       "      <td>1/1/2017</td>\n",
       "      <td>1</td>\n",
       "      <td>married</td>\n",
       "      <td>40374</td>\n",
       "    </tr>\n",
       "  </tbody>\n",
       "</table>\n",
       "</div>"
      ],
      "text/plain": [
       "   user_id First Name    Surnam  Gender       STATE  Age date_joined  \\\n",
       "0    26711    Deborah  Esquivel  Female    Missouri   48    1/1/2017   \n",
       "1    33890   Patricia      Hart  Female  New Mexico   36    1/1/2017   \n",
       "2    65803    Kenneth    Farley    Male       Idaho   35    1/1/2017   \n",
       "3   125935   Michelle     Hicks  Female        Iowa   40    1/1/2017   \n",
       "4   130797        Ann   Gilmore  Female    Maryland   26    1/1/2017   \n",
       "\n",
       "   n_dependants fam_status  income  \n",
       "0             3    married  165665  \n",
       "1             0     single   59285  \n",
       "2             2    married   99568  \n",
       "3             0     single   42049  \n",
       "4             1    married   40374  "
      ]
     },
     "execution_count": 8,
     "metadata": {},
     "output_type": "execute_result"
    }
   ],
   "source": [
    "# Checking new data\n",
    "customers.head()\n"
   ]
  },
  {
   "cell_type": "code",
   "execution_count": 9,
   "id": "3e4808b0",
   "metadata": {},
   "outputs": [
    {
     "data": {
      "text/plain": [
       "(206209, 10)"
      ]
     },
     "execution_count": 9,
     "metadata": {},
     "output_type": "execute_result"
    }
   ],
   "source": [
    "customers.shape\n"
   ]
  },
  {
   "cell_type": "code",
   "execution_count": 10,
   "id": "37471436",
   "metadata": {},
   "outputs": [
    {
     "data": {
      "text/html": [
       "<div>\n",
       "<style scoped>\n",
       "    .dataframe tbody tr th:only-of-type {\n",
       "        vertical-align: middle;\n",
       "    }\n",
       "\n",
       "    .dataframe tbody tr th {\n",
       "        vertical-align: top;\n",
       "    }\n",
       "\n",
       "    .dataframe thead th {\n",
       "        text-align: right;\n",
       "    }\n",
       "</style>\n",
       "<table border=\"1\" class=\"dataframe\">\n",
       "  <thead>\n",
       "    <tr style=\"text-align: right;\">\n",
       "      <th></th>\n",
       "      <th>user_id</th>\n",
       "      <th>Age</th>\n",
       "      <th>n_dependants</th>\n",
       "      <th>income</th>\n",
       "    </tr>\n",
       "  </thead>\n",
       "  <tbody>\n",
       "    <tr>\n",
       "      <th>count</th>\n",
       "      <td>206209.000000</td>\n",
       "      <td>206209.000000</td>\n",
       "      <td>206209.000000</td>\n",
       "      <td>206209.000000</td>\n",
       "    </tr>\n",
       "    <tr>\n",
       "      <th>mean</th>\n",
       "      <td>103105.000000</td>\n",
       "      <td>49.501646</td>\n",
       "      <td>1.499823</td>\n",
       "      <td>94632.852548</td>\n",
       "    </tr>\n",
       "    <tr>\n",
       "      <th>std</th>\n",
       "      <td>59527.555167</td>\n",
       "      <td>18.480962</td>\n",
       "      <td>1.118433</td>\n",
       "      <td>42473.786988</td>\n",
       "    </tr>\n",
       "    <tr>\n",
       "      <th>min</th>\n",
       "      <td>1.000000</td>\n",
       "      <td>18.000000</td>\n",
       "      <td>0.000000</td>\n",
       "      <td>25903.000000</td>\n",
       "    </tr>\n",
       "    <tr>\n",
       "      <th>25%</th>\n",
       "      <td>51553.000000</td>\n",
       "      <td>33.000000</td>\n",
       "      <td>0.000000</td>\n",
       "      <td>59874.000000</td>\n",
       "    </tr>\n",
       "    <tr>\n",
       "      <th>50%</th>\n",
       "      <td>103105.000000</td>\n",
       "      <td>49.000000</td>\n",
       "      <td>1.000000</td>\n",
       "      <td>93547.000000</td>\n",
       "    </tr>\n",
       "    <tr>\n",
       "      <th>75%</th>\n",
       "      <td>154657.000000</td>\n",
       "      <td>66.000000</td>\n",
       "      <td>3.000000</td>\n",
       "      <td>124244.000000</td>\n",
       "    </tr>\n",
       "    <tr>\n",
       "      <th>max</th>\n",
       "      <td>206209.000000</td>\n",
       "      <td>81.000000</td>\n",
       "      <td>3.000000</td>\n",
       "      <td>593901.000000</td>\n",
       "    </tr>\n",
       "  </tbody>\n",
       "</table>\n",
       "</div>"
      ],
      "text/plain": [
       "             user_id            Age   n_dependants         income\n",
       "count  206209.000000  206209.000000  206209.000000  206209.000000\n",
       "mean   103105.000000      49.501646       1.499823   94632.852548\n",
       "std     59527.555167      18.480962       1.118433   42473.786988\n",
       "min         1.000000      18.000000       0.000000   25903.000000\n",
       "25%     51553.000000      33.000000       0.000000   59874.000000\n",
       "50%    103105.000000      49.000000       1.000000   93547.000000\n",
       "75%    154657.000000      66.000000       3.000000  124244.000000\n",
       "max    206209.000000      81.000000       3.000000  593901.000000"
      ]
     },
     "execution_count": 10,
     "metadata": {},
     "output_type": "execute_result"
    }
   ],
   "source": [
    "customers.describe()\n"
   ]
  },
  {
   "cell_type": "code",
   "execution_count": 11,
   "id": "3d84f73d",
   "metadata": {},
   "outputs": [
    {
     "name": "stdout",
     "output_type": "stream",
     "text": [
      "<class 'pandas.core.frame.DataFrame'>\n",
      "RangeIndex: 206209 entries, 0 to 206208\n",
      "Data columns (total 10 columns):\n",
      " #   Column        Non-Null Count   Dtype \n",
      "---  ------        --------------   ----- \n",
      " 0   user_id       206209 non-null  int64 \n",
      " 1   First Name    194950 non-null  object\n",
      " 2   Surnam        206209 non-null  object\n",
      " 3   Gender        206209 non-null  object\n",
      " 4   STATE         206209 non-null  object\n",
      " 5   Age           206209 non-null  int64 \n",
      " 6   date_joined   206209 non-null  object\n",
      " 7   n_dependants  206209 non-null  int64 \n",
      " 8   fam_status    206209 non-null  object\n",
      " 9   income        206209 non-null  int64 \n",
      "dtypes: int64(4), object(6)\n",
      "memory usage: 15.7+ MB\n"
     ]
    }
   ],
   "source": [
    "customers.info()\n"
   ]
  },
  {
   "cell_type": "markdown",
   "id": "28d622e1",
   "metadata": {},
   "source": [
    "## Step 4 - Wrangle the data so that it follows consistent logic\n",
    "### Rename the variables to bring similar format\n"
   ]
  },
  {
   "cell_type": "code",
   "execution_count": 12,
   "id": "d24d412e",
   "metadata": {},
   "outputs": [],
   "source": [
    "# Rename First Name as first_name\n",
    "customers.rename(columns = {'First Name' : 'first_name'}, inplace = True)\n",
    "\n",
    "# Rename Surnam as last_name\n",
    "customers.rename(columns = {'Surnam' : 'last_name'}, inplace = True)\n",
    "\n",
    "# Rename Gender as gender\n",
    "customers.rename(columns = {'Gender' : 'gender'}, inplace = True)\n",
    "\n",
    "# Rename STATE as state\n",
    "customers.rename(columns = {'STATE' : 'state'}, inplace = True)\n",
    "\n",
    "# Rename Age as age\n",
    "customers.rename(columns = {'Age' : 'age'}, inplace = True)\n",
    "\n",
    "# Rename fam_status as marital_status\n",
    "customers.rename(columns = {'fam_status' : 'marital_status'}, inplace = True)\n"
   ]
  },
  {
   "cell_type": "code",
   "execution_count": 13,
   "id": "99b7de41",
   "metadata": {},
   "outputs": [
    {
     "data": {
      "text/plain": [
       "Index(['user_id', 'first_name', 'last_name', 'gender', 'state', 'age',\n",
       "       'date_joined', 'n_dependants', 'marital_status', 'income'],\n",
       "      dtype='object')"
      ]
     },
     "execution_count": 13,
     "metadata": {},
     "output_type": "execute_result"
    }
   ],
   "source": [
    "# Checking\n",
    "customers.columns\n"
   ]
  },
  {
   "cell_type": "markdown",
   "id": "88aa01d4",
   "metadata": {},
   "source": [
    "6 variables were renamed and now all the columns have a similar form\n",
    "\n",
    "For now I dont think I need to drop any column. Maybe for data protection reasons I believe I could drop first_name and last_name.\n"
   ]
  },
  {
   "cell_type": "markdown",
   "id": "3d272840",
   "metadata": {},
   "source": [
    "## Step 5 - Complete the fundamental data quality and consistency checks you’ve learned throughout this Achievement\n"
   ]
  },
  {
   "cell_type": "code",
   "execution_count": 17,
   "id": "b87256d0",
   "metadata": {},
   "outputs": [
    {
     "data": {
      "text/plain": [
       "user_id               0\n",
       "first_name        11259\n",
       "last_name             0\n",
       "gender                0\n",
       "state                 0\n",
       "age                   0\n",
       "date_joined           0\n",
       "n_dependants          0\n",
       "marital_status        0\n",
       "income                0\n",
       "dtype: int64"
      ]
     },
     "execution_count": 17,
     "metadata": {},
     "output_type": "execute_result"
    }
   ],
   "source": [
    "# Checking missing values\n",
    "customers.isnull().sum()\n"
   ]
  },
  {
   "cell_type": "markdown",
   "id": "0b5dc55a",
   "metadata": {},
   "source": [
    "There are 11,259 missing first names. This is not a key variable for the analysis, so no need to address them.\n"
   ]
  },
  {
   "cell_type": "code",
   "execution_count": 18,
   "id": "fb3f4fbd",
   "metadata": {},
   "outputs": [
    {
     "data": {
      "text/html": [
       "<div>\n",
       "<style scoped>\n",
       "    .dataframe tbody tr th:only-of-type {\n",
       "        vertical-align: middle;\n",
       "    }\n",
       "\n",
       "    .dataframe tbody tr th {\n",
       "        vertical-align: top;\n",
       "    }\n",
       "\n",
       "    .dataframe thead th {\n",
       "        text-align: right;\n",
       "    }\n",
       "</style>\n",
       "<table border=\"1\" class=\"dataframe\">\n",
       "  <thead>\n",
       "    <tr style=\"text-align: right;\">\n",
       "      <th></th>\n",
       "      <th>user_id</th>\n",
       "      <th>first_name</th>\n",
       "      <th>last_name</th>\n",
       "      <th>gender</th>\n",
       "      <th>state</th>\n",
       "      <th>age</th>\n",
       "      <th>date_joined</th>\n",
       "      <th>n_dependants</th>\n",
       "      <th>marital_status</th>\n",
       "      <th>income</th>\n",
       "    </tr>\n",
       "  </thead>\n",
       "  <tbody>\n",
       "  </tbody>\n",
       "</table>\n",
       "</div>"
      ],
      "text/plain": [
       "Empty DataFrame\n",
       "Columns: [user_id, first_name, last_name, gender, state, age, date_joined, n_dependants, marital_status, income]\n",
       "Index: []"
      ]
     },
     "execution_count": 18,
     "metadata": {},
     "output_type": "execute_result"
    }
   ],
   "source": [
    "# Checking duplicates\n",
    "df_dups = customers[customers.duplicated()]\n",
    "df_dups\n"
   ]
  },
  {
   "cell_type": "markdown",
   "id": "53c0e71b",
   "metadata": {},
   "source": [
    "There are no duplicates in the dataframe."
   ]
  },
  {
   "cell_type": "code",
   "execution_count": 19,
   "id": "f02e23aa",
   "metadata": {},
   "outputs": [
    {
     "data": {
      "text/plain": [
       "user_id            int64\n",
       "first_name        object\n",
       "last_name         object\n",
       "gender            object\n",
       "state             object\n",
       "age                int64\n",
       "date_joined       object\n",
       "n_dependants       int64\n",
       "marital_status    object\n",
       "income             int64\n",
       "dtype: object"
      ]
     },
     "execution_count": 19,
     "metadata": {},
     "output_type": "execute_result"
    }
   ],
   "source": [
    "# Checking mixed-type\n",
    "customers.dtypes\n"
   ]
  },
  {
   "cell_type": "code",
   "execution_count": 20,
   "id": "f43be979",
   "metadata": {},
   "outputs": [
    {
     "name": "stdout",
     "output_type": "stream",
     "text": [
      "first_name\n"
     ]
    }
   ],
   "source": [
    "for col in customers.columns.tolist():\n",
    "  weird = (customers[[col]].map(type) != customers[[col]].iloc[0].apply(type)).any(axis = 1)\n",
    "  if len(customers[weird]) > 0:\n",
    "    print(col)\n"
   ]
  },
  {
   "cell_type": "markdown",
   "id": "07ff1dec",
   "metadata": {},
   "source": [
    "`first_name column` has mixed data type. Let's fix it.\n"
   ]
  },
  {
   "cell_type": "code",
   "execution_count": 21,
   "id": "46cdd2a3",
   "metadata": {},
   "outputs": [],
   "source": [
    "# Address string data type to first name\n",
    "customers['first_name'] = customers['first_name'].astype('str')\n"
   ]
  },
  {
   "cell_type": "code",
   "execution_count": 22,
   "id": "3b295a51",
   "metadata": {},
   "outputs": [
    {
     "data": {
      "text/plain": [
       "user_id            int64\n",
       "first_name        object\n",
       "last_name         object\n",
       "gender            object\n",
       "state             object\n",
       "age                int64\n",
       "date_joined       object\n",
       "n_dependants       int64\n",
       "marital_status    object\n",
       "income             int64\n",
       "dtype: object"
      ]
     },
     "execution_count": 22,
     "metadata": {},
     "output_type": "execute_result"
    }
   ],
   "source": [
    "# Let's check again the data type\n",
    "customers.dtypes\n"
   ]
  },
  {
   "cell_type": "code",
   "execution_count": 23,
   "id": "ef0a18fa",
   "metadata": {},
   "outputs": [],
   "source": [
    "# Let's check again the mixed data-type\n",
    "for col in customers.columns.tolist():\n",
    "  weird = (customers[[col]].map(type) != customers[[col]].iloc[0].apply(type)).any(axis = 1)\n",
    "  if len(customers[weird]) > 0:\n",
    "    print(col)\n"
   ]
  },
  {
   "cell_type": "markdown",
   "id": "5f672a9c",
   "metadata": {},
   "source": [
    "There is no mixed data type columns and all the columns are the right data type.\n"
   ]
  },
  {
   "cell_type": "markdown",
   "id": "12d50192",
   "metadata": {},
   "source": [
    "## Step 6 - Combine your customer data with the rest of your prepared Instacart data\n"
   ]
  },
  {
   "cell_type": "code",
   "execution_count": 25,
   "id": "24e37227",
   "metadata": {},
   "outputs": [],
   "source": [
    "# Path to the prepared Instacart data\n",
    "ords_prods_file = os.path.join(path, '02 Data', 'Prepared Data', 'ords_prods_merge_updated.pkl')\n",
    "\n",
    "# Check if the file exists and load it\n",
    "if os.path.exists(ords_prods_file):\n",
    "    # Import the rest of prepared Instacart data\n",
    "    ords_prods_merge = pd.read_pickle(ords_prods_file)\n",
    "else:\n",
    "    print(f\"File not found: {ords_prods_file}\")\n"
   ]
  },
  {
   "cell_type": "code",
   "execution_count": 26,
   "id": "5250b9ab",
   "metadata": {},
   "outputs": [
    {
     "data": {
      "text/plain": [
       "order_id                      int64\n",
       "user_id                       int64\n",
       "order_number                  int64\n",
       "day_of_week                   int64\n",
       "order_hour_of_day             int64\n",
       "days_since_prior_order      float64\n",
       "product_id                    int64\n",
       "add_to_cart_order             int64\n",
       "reordered                     int64\n",
       "_merge_existing            category\n",
       "product_name                 object\n",
       "aisle_id                      int64\n",
       "department_id                 int64\n",
       "prices                      float64\n",
       "_merge                     category\n",
       "price_label                  object\n",
       "busiest_day                  object\n",
       "busiest_days_updated         object\n",
       "max_order                     int64\n",
       "loyalty_flag                 object\n",
       "avg_price                   float64\n",
       "spending_flag                object\n",
       "median_days_since_prior     float64\n",
       "order_frequency_flag         object\n",
       "dtype: object"
      ]
     },
     "execution_count": 26,
     "metadata": {},
     "output_type": "execute_result"
    }
   ],
   "source": [
    "# Checking data type\n",
    "ords_prods_merge.dtypes\n"
   ]
  },
  {
   "cell_type": "markdown",
   "id": "4f844cfd",
   "metadata": {},
   "source": [
    "The key columns are `user_id` and both are the same data type."
   ]
  },
  {
   "cell_type": "code",
   "execution_count": 27,
   "id": "1af90d71",
   "metadata": {},
   "outputs": [],
   "source": [
    "# Drop the '_merge' column from the previous exercise if it exists\n",
    "if '_merge' in ords_prods_merge.columns:\n",
    "    ords_prods_merge = ords_prods_merge.drop(columns=['_merge'])\n"
   ]
  },
  {
   "cell_type": "code",
   "execution_count": 28,
   "id": "b1613f83",
   "metadata": {},
   "outputs": [],
   "source": [
    "# Merge ords_prods_merge with customers data\n",
    "ords_prods_customers_merge = ords_prods_merge.merge(customers, on='user_id', indicator=True)\n"
   ]
  },
  {
   "cell_type": "code",
   "execution_count": 29,
   "id": "2bcbd433",
   "metadata": {},
   "outputs": [],
   "source": [
    "# Step 8 - Export this new dataframe as a pickle file\n",
    "ords_prods_customers_merge.to_pickle(os.path.join(path, '02 Data', 'Prepared Data', 'orders_products_customers_aggregated.pkl'))\n"
   ]
  },
  {
   "cell_type": "code",
   "execution_count": null,
   "id": "75863a7f",
   "metadata": {},
   "outputs": [],
   "source": []
  }
 ],
 "metadata": {
  "kernelspec": {
   "display_name": "Python 3 (ipykernel)",
   "language": "python",
   "name": "python3"
  },
  "language_info": {
   "codemirror_mode": {
    "name": "ipython",
    "version": 3
   },
   "file_extension": ".py",
   "mimetype": "text/x-python",
   "name": "python",
   "nbconvert_exporter": "python",
   "pygments_lexer": "ipython3",
   "version": "3.11.7"
  }
 },
 "nbformat": 4,
 "nbformat_minor": 5
}
