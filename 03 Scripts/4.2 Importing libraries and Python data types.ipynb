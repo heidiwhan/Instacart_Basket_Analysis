{
 "cells": [
  {
   "cell_type": "markdown",
   "id": "182ec584",
   "metadata": {},
   "source": [
    "# Importing Libraries"
   ]
  },
  {
   "cell_type": "code",
   "execution_count": 1,
   "id": "3fac95cc",
   "metadata": {},
   "outputs": [],
   "source": [
    "# Importing necessary libraries\n",
    "import pandas as pd  # pandas for data manipulation\n",
    "import numpy as np  # NumPy for numerical operations\n",
    "import os  # os for operating system interactions"
   ]
  },
  {
   "cell_type": "markdown",
   "id": "22ede9be",
   "metadata": {},
   "source": [
    "# Working with Python Data Types"
   ]
  },
  {
   "cell_type": "code",
   "execution_count": 2,
   "id": "bab99cec",
   "metadata": {},
   "outputs": [
    {
     "name": "stdout",
     "output_type": "stream",
     "text": [
      "100 100 150\n"
     ]
    }
   ],
   "source": [
    "# Different ways to reach 100\n",
    "# Method 1: Adding variables\n",
    "a = 50\n",
    "b = 50\n",
    "result1 = a + b\n",
    "\n",
    "# Method 2: Subtracting variables\n",
    "c = 200\n",
    "d = 100\n",
    "result2 = c - d\n",
    "\n",
    "# Method 3: A mix of adding and subtracting\n",
    "e = 150\n",
    "f = 50\n",
    "g = 50\n",
    "result3 = e - f + g\n",
    "\n",
    "print(result1, result2, result3)\n"
   ]
  },
  {
   "cell_type": "markdown",
   "id": "63349f71",
   "metadata": {},
   "source": [
    " **Step 6: Code 2 floating-point variables and divide them by each other**"
   ]
  },
  {
   "cell_type": "code",
   "execution_count": 3,
   "id": "74180557",
   "metadata": {},
   "outputs": [
    {
     "name": "stdout",
     "output_type": "stream",
     "text": [
      "3.8\n"
     ]
    }
   ],
   "source": [
    "# Floating-point division\n",
    "float1 = 9.5\n",
    "float2 = 2.5\n",
    "division_result = float1 / float2\n",
    "\n",
    "print(division_result)\n"
   ]
  },
  {
   "cell_type": "markdown",
   "id": "ddf70fac",
   "metadata": {},
   "source": [
    "**Step 7: Construct a short word made of separate strings**"
   ]
  },
  {
   "cell_type": "code",
   "execution_count": 7,
   "id": "1e1069bd",
   "metadata": {},
   "outputs": [
    {
     "name": "stdout",
     "output_type": "stream",
     "text": [
      "Hello\n"
     ]
    }
   ],
   "source": [
    "# Constructing a short word\n",
    "part1 = \"Hel\"\n",
    "part2 = \"lo\"\n",
    "word = part1 + part2\n",
    "\n",
    "print(word)"
   ]
  },
  {
   "cell_type": "markdown",
   "id": "a907a095",
   "metadata": {},
   "source": [
    "**Step 8: Construct 2 short sentences made of separate strings**"
   ]
  },
  {
   "cell_type": "code",
   "execution_count": 9,
   "id": "8ecdf3c4",
   "metadata": {},
   "outputs": [
    {
     "name": "stdout",
     "output_type": "stream",
     "text": [
      "Roses are red.\n",
      "My name is Heidi!\n"
     ]
    }
   ],
   "source": [
    "# Constructing short sentences\n",
    "sentence1_part1 = \"Roses are \"\n",
    "sentence1_part2 = \"red.\"\n",
    "sentence1 = sentence1_part1 + sentence1_part2\n",
    "\n",
    "sentence2_part1 = \"My name \"\n",
    "sentence2_part2 = \"is Heidi!\"\n",
    "sentence2 = sentence2_part1 + sentence2_part2\n",
    "\n",
    "print(sentence1)\n",
    "print(sentence2)\n"
   ]
  },
  {
   "cell_type": "markdown",
   "id": "ec8bc005",
   "metadata": {},
   "source": [
    "**Bonus: Include a command that makes a string appear 100 times**"
   ]
  },
  {
   "cell_type": "code",
   "execution_count": 11,
   "id": "0445cf60",
   "metadata": {},
   "outputs": [
    {
     "name": "stdout",
     "output_type": "stream",
     "text": [
      "Wabba Lubba Dub Dub! \n",
      "Wabba Lubba Dub Dub! \n",
      "Wabba Lubba Dub Dub! \n",
      "Wabba Lubba Dub Dub! \n",
      "Wabba Lubba Dub Dub! \n",
      "Wabba Lubba Dub Dub! \n",
      "Wabba Lubba Dub Dub! \n",
      "Wabba Lubba Dub Dub! \n",
      "Wabba Lubba Dub Dub! \n",
      "Wabba Lubba Dub Dub! \n",
      "Wabba Lubba Dub Dub! \n",
      "Wabba Lubba Dub Dub! \n",
      "Wabba Lubba Dub Dub! \n",
      "Wabba Lubba Dub Dub! \n",
      "Wabba Lubba Dub Dub! \n",
      "Wabba Lubba Dub Dub! \n",
      "Wabba Lubba Dub Dub! \n",
      "Wabba Lubba Dub Dub! \n",
      "Wabba Lubba Dub Dub! \n",
      "Wabba Lubba Dub Dub! \n",
      "Wabba Lubba Dub Dub! \n",
      "Wabba Lubba Dub Dub! \n",
      "Wabba Lubba Dub Dub! \n",
      "Wabba Lubba Dub Dub! \n",
      "Wabba Lubba Dub Dub! \n",
      "Wabba Lubba Dub Dub! \n",
      "Wabba Lubba Dub Dub! \n",
      "Wabba Lubba Dub Dub! \n",
      "Wabba Lubba Dub Dub! \n",
      "Wabba Lubba Dub Dub! \n",
      "Wabba Lubba Dub Dub! \n",
      "Wabba Lubba Dub Dub! \n",
      "Wabba Lubba Dub Dub! \n",
      "Wabba Lubba Dub Dub! \n",
      "Wabba Lubba Dub Dub! \n",
      "Wabba Lubba Dub Dub! \n",
      "Wabba Lubba Dub Dub! \n",
      "Wabba Lubba Dub Dub! \n",
      "Wabba Lubba Dub Dub! \n",
      "Wabba Lubba Dub Dub! \n",
      "Wabba Lubba Dub Dub! \n",
      "Wabba Lubba Dub Dub! \n",
      "Wabba Lubba Dub Dub! \n",
      "Wabba Lubba Dub Dub! \n",
      "Wabba Lubba Dub Dub! \n",
      "Wabba Lubba Dub Dub! \n",
      "Wabba Lubba Dub Dub! \n",
      "Wabba Lubba Dub Dub! \n",
      "Wabba Lubba Dub Dub! \n",
      "Wabba Lubba Dub Dub! \n",
      "Wabba Lubba Dub Dub! \n",
      "Wabba Lubba Dub Dub! \n",
      "Wabba Lubba Dub Dub! \n",
      "Wabba Lubba Dub Dub! \n",
      "Wabba Lubba Dub Dub! \n",
      "Wabba Lubba Dub Dub! \n",
      "Wabba Lubba Dub Dub! \n",
      "Wabba Lubba Dub Dub! \n",
      "Wabba Lubba Dub Dub! \n",
      "Wabba Lubba Dub Dub! \n",
      "Wabba Lubba Dub Dub! \n",
      "Wabba Lubba Dub Dub! \n",
      "Wabba Lubba Dub Dub! \n",
      "Wabba Lubba Dub Dub! \n",
      "Wabba Lubba Dub Dub! \n",
      "Wabba Lubba Dub Dub! \n",
      "Wabba Lubba Dub Dub! \n",
      "Wabba Lubba Dub Dub! \n",
      "Wabba Lubba Dub Dub! \n",
      "Wabba Lubba Dub Dub! \n",
      "Wabba Lubba Dub Dub! \n",
      "Wabba Lubba Dub Dub! \n",
      "Wabba Lubba Dub Dub! \n",
      "Wabba Lubba Dub Dub! \n",
      "Wabba Lubba Dub Dub! \n",
      "Wabba Lubba Dub Dub! \n",
      "Wabba Lubba Dub Dub! \n",
      "Wabba Lubba Dub Dub! \n",
      "Wabba Lubba Dub Dub! \n",
      "Wabba Lubba Dub Dub! \n",
      "Wabba Lubba Dub Dub! \n",
      "Wabba Lubba Dub Dub! \n",
      "Wabba Lubba Dub Dub! \n",
      "Wabba Lubba Dub Dub! \n",
      "Wabba Lubba Dub Dub! \n",
      "Wabba Lubba Dub Dub! \n",
      "Wabba Lubba Dub Dub! \n",
      "Wabba Lubba Dub Dub! \n",
      "Wabba Lubba Dub Dub! \n",
      "Wabba Lubba Dub Dub! \n",
      "Wabba Lubba Dub Dub! \n",
      "Wabba Lubba Dub Dub! \n",
      "Wabba Lubba Dub Dub! \n",
      "Wabba Lubba Dub Dub! \n",
      "Wabba Lubba Dub Dub! \n",
      "Wabba Lubba Dub Dub! \n",
      "Wabba Lubba Dub Dub! \n",
      "Wabba Lubba Dub Dub! \n",
      "Wabba Lubba Dub Dub! \n",
      "Wabba Lubba Dub Dub! \n",
      "\n"
     ]
    }
   ],
   "source": [
    "# Command to make a string appear 100 times\n",
    "repeated_string = \"Wabba Lubba Dub Dub! \\n\" * 100\n",
    "print(repeated_string)\n"
   ]
  }
 ],
 "metadata": {
  "kernelspec": {
   "display_name": "Python 3 (ipykernel)",
   "language": "python",
   "name": "python3"
  },
  "language_info": {
   "codemirror_mode": {
    "name": "ipython",
    "version": 3
   },
   "file_extension": ".py",
   "mimetype": "text/x-python",
   "name": "python",
   "nbconvert_exporter": "python",
   "pygments_lexer": "ipython3",
   "version": "3.11.7"
  }
 },
 "nbformat": 4,
 "nbformat_minor": 5
}
