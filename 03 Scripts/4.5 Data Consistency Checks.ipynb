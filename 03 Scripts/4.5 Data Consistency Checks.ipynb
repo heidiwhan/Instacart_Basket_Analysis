{
 "cells": [
  {
   "cell_type": "markdown",
   "id": "d31c19b1",
   "metadata": {},
   "source": [
    "# Data Consistency Checks\n",
    "\n",
    "## Importing Libraries\n"
   ]
  },
  {
   "cell_type": "code",
   "execution_count": 10,
   "id": "d83171ca",
   "metadata": {},
   "outputs": [],
   "source": [
    "import pandas as pd\n",
    "import numpy as np\n",
    "import os\n"
   ]
  },
  {
   "cell_type": "markdown",
   "id": "fac0d44f",
   "metadata": {},
   "source": [
    "## Defining Project Path\n"
   ]
  },
  {
   "cell_type": "code",
   "execution_count": 11,
   "id": "3c08b868",
   "metadata": {},
   "outputs": [],
   "source": [
    "project_path = r\"C:\\Users\\mshhan\\Documents\\05-2024 Instacart Basket Analysis\\02 Data\\Original Data\"\n"
   ]
  },
  {
   "cell_type": "markdown",
   "id": "541367d5",
   "metadata": {},
   "source": [
    "## Importing Data\n"
   ]
  },
  {
   "cell_type": "code",
   "execution_count": 12,
   "id": "e6d66d5e",
   "metadata": {},
   "outputs": [],
   "source": [
    "products_path = os.path.join(project_path, \"products.csv\")\n",
    "df_prods = pd.read_csv(products_path)\n",
    "\n",
    "# Loading the orders_wrangled.csv data set\n",
    "prepared_data_path = os.path.join(project_path, \"..\", \"Prepared Data\")\n",
    "orders_path = os.path.join(prepared_data_path, \"orders_wrangled.csv\")\n",
    "df_ords = pd.read_csv(orders_path)\n"
   ]
  },
  {
   "cell_type": "markdown",
   "id": "72696904",
   "metadata": {},
   "source": [
    "## Perform Consistency Checks on df_prods"
   ]
  },
  {
   "cell_type": "code",
   "execution_count": 22,
   "id": "305f4c94",
   "metadata": {},
   "outputs": [],
   "source": [
    "def check_mixed_types(df):\n",
    "    for col in df.columns.tolist():\n",
    "        # Map the types of the values in the column\n",
    "        type_map = df[col].map(type)\n",
    "        # Check if there are any discrepancies in the types within the column\n",
    "        if type_map.nunique() > 1:\n",
    "            print(f\"Mixed data types found in column: {col}\")\n",
    "\n",
    "\n",
    "# Check for mixed-type data in df_prods\n",
    "check_mixed_types(df_prods)\n",
    "\n"
   ]
  },
  {
   "cell_type": "code",
   "execution_count": 23,
   "id": "96bee4ce",
   "metadata": {},
   "outputs": [],
   "source": [
    "# Example conversion (adjust as needed based on actual column and data type)\n",
    "df_prods['product_name'] = df_prods['product_name'].astype(str)\n"
   ]
  },
  {
   "cell_type": "code",
   "execution_count": 24,
   "id": "8f395a65",
   "metadata": {},
   "outputs": [
    {
     "name": "stdout",
     "output_type": "stream",
     "text": [
      "product_id       0\n",
      "product_name     0\n",
      "aisle_id         0\n",
      "department_id    0\n",
      "prices           0\n",
      "dtype: int64\n"
     ]
    }
   ],
   "source": [
    "# Check for missing values in df_prods\n",
    "missing_values = df_prods.isnull().sum()\n",
    "print(missing_values)"
   ]
  },
  {
   "cell_type": "markdown",
   "id": "fcc744e2",
   "metadata": {},
   "source": [
    "looks like there are no missing data points, so we go ahead!"
   ]
  },
  {
   "cell_type": "code",
   "execution_count": 25,
   "id": "52f46aa6",
   "metadata": {},
   "outputs": [
    {
     "name": "stdout",
     "output_type": "stream",
     "text": [
      "Number of duplicate rows: 0\n"
     ]
    }
   ],
   "source": [
    "# Check for duplicate rows in df_prods\n",
    "duplicates = df_prods.duplicated().sum()\n",
    "print(f\"Number of duplicate rows: {duplicates}\")\n"
   ]
  },
  {
   "cell_type": "code",
   "execution_count": 26,
   "id": "4f91bce0",
   "metadata": {},
   "outputs": [],
   "source": [
    "# Remove duplicate rows\n",
    "df_prods.drop_duplicates(inplace=True)\n"
   ]
  },
  {
   "cell_type": "code",
   "execution_count": 27,
   "id": "cb9d54de",
   "metadata": {
    "scrolled": true
   },
   "outputs": [
    {
     "data": {
      "text/html": [
       "<div>\n",
       "<style scoped>\n",
       "    .dataframe tbody tr th:only-of-type {\n",
       "        vertical-align: middle;\n",
       "    }\n",
       "\n",
       "    .dataframe tbody tr th {\n",
       "        vertical-align: top;\n",
       "    }\n",
       "\n",
       "    .dataframe thead th {\n",
       "        text-align: right;\n",
       "    }\n",
       "</style>\n",
       "<table border=\"1\" class=\"dataframe\">\n",
       "  <thead>\n",
       "    <tr style=\"text-align: right;\">\n",
       "      <th></th>\n",
       "      <th>order_id</th>\n",
       "      <th>user_id</th>\n",
       "      <th>order_number</th>\n",
       "      <th>day_of_week</th>\n",
       "      <th>order_hour_of_day</th>\n",
       "      <th>days_since_prior_order</th>\n",
       "    </tr>\n",
       "  </thead>\n",
       "  <tbody>\n",
       "    <tr>\n",
       "      <th>count</th>\n",
       "      <td>3.421083e+06</td>\n",
       "      <td>3.421083e+06</td>\n",
       "      <td>3.421083e+06</td>\n",
       "      <td>3.421083e+06</td>\n",
       "      <td>3.421083e+06</td>\n",
       "      <td>3.214874e+06</td>\n",
       "    </tr>\n",
       "    <tr>\n",
       "      <th>mean</th>\n",
       "      <td>1.710542e+06</td>\n",
       "      <td>1.029782e+05</td>\n",
       "      <td>1.715486e+01</td>\n",
       "      <td>2.776219e+00</td>\n",
       "      <td>1.345202e+01</td>\n",
       "      <td>1.111484e+01</td>\n",
       "    </tr>\n",
       "    <tr>\n",
       "      <th>std</th>\n",
       "      <td>9.875817e+05</td>\n",
       "      <td>5.953372e+04</td>\n",
       "      <td>1.773316e+01</td>\n",
       "      <td>2.046829e+00</td>\n",
       "      <td>4.226088e+00</td>\n",
       "      <td>9.206737e+00</td>\n",
       "    </tr>\n",
       "    <tr>\n",
       "      <th>min</th>\n",
       "      <td>1.000000e+00</td>\n",
       "      <td>1.000000e+00</td>\n",
       "      <td>1.000000e+00</td>\n",
       "      <td>0.000000e+00</td>\n",
       "      <td>0.000000e+00</td>\n",
       "      <td>0.000000e+00</td>\n",
       "    </tr>\n",
       "    <tr>\n",
       "      <th>25%</th>\n",
       "      <td>8.552715e+05</td>\n",
       "      <td>5.139400e+04</td>\n",
       "      <td>5.000000e+00</td>\n",
       "      <td>1.000000e+00</td>\n",
       "      <td>1.000000e+01</td>\n",
       "      <td>4.000000e+00</td>\n",
       "    </tr>\n",
       "    <tr>\n",
       "      <th>50%</th>\n",
       "      <td>1.710542e+06</td>\n",
       "      <td>1.026890e+05</td>\n",
       "      <td>1.100000e+01</td>\n",
       "      <td>3.000000e+00</td>\n",
       "      <td>1.300000e+01</td>\n",
       "      <td>7.000000e+00</td>\n",
       "    </tr>\n",
       "    <tr>\n",
       "      <th>75%</th>\n",
       "      <td>2.565812e+06</td>\n",
       "      <td>1.543850e+05</td>\n",
       "      <td>2.300000e+01</td>\n",
       "      <td>5.000000e+00</td>\n",
       "      <td>1.600000e+01</td>\n",
       "      <td>1.500000e+01</td>\n",
       "    </tr>\n",
       "    <tr>\n",
       "      <th>max</th>\n",
       "      <td>3.421083e+06</td>\n",
       "      <td>2.062090e+05</td>\n",
       "      <td>1.000000e+02</td>\n",
       "      <td>6.000000e+00</td>\n",
       "      <td>2.300000e+01</td>\n",
       "      <td>3.000000e+01</td>\n",
       "    </tr>\n",
       "  </tbody>\n",
       "</table>\n",
       "</div>"
      ],
      "text/plain": [
       "           order_id       user_id  order_number   day_of_week  \\\n",
       "count  3.421083e+06  3.421083e+06  3.421083e+06  3.421083e+06   \n",
       "mean   1.710542e+06  1.029782e+05  1.715486e+01  2.776219e+00   \n",
       "std    9.875817e+05  5.953372e+04  1.773316e+01  2.046829e+00   \n",
       "min    1.000000e+00  1.000000e+00  1.000000e+00  0.000000e+00   \n",
       "25%    8.552715e+05  5.139400e+04  5.000000e+00  1.000000e+00   \n",
       "50%    1.710542e+06  1.026890e+05  1.100000e+01  3.000000e+00   \n",
       "75%    2.565812e+06  1.543850e+05  2.300000e+01  5.000000e+00   \n",
       "max    3.421083e+06  2.062090e+05  1.000000e+02  6.000000e+00   \n",
       "\n",
       "       order_hour_of_day  days_since_prior_order  \n",
       "count       3.421083e+06            3.214874e+06  \n",
       "mean        1.345202e+01            1.111484e+01  \n",
       "std         4.226088e+00            9.206737e+00  \n",
       "min         0.000000e+00            0.000000e+00  \n",
       "25%         1.000000e+01            4.000000e+00  \n",
       "50%         1.300000e+01            7.000000e+00  \n",
       "75%         1.600000e+01            1.500000e+01  \n",
       "max         2.300000e+01            3.000000e+01  "
      ]
     },
     "execution_count": 27,
     "metadata": {},
     "output_type": "execute_result"
    }
   ],
   "source": [
    "# Summary statistics for df_ords\n",
    "df_ords.describe()\n"
   ]
  },
  {
   "cell_type": "markdown",
   "id": "9b9dab84",
   "metadata": {},
   "source": [
    "### Analysis of `df_ords.describe()` Output\n",
    "\n",
    "Based on the summary statistics provided by the `df.describe()` function, here are the observations and potential issues that should be investigated further:\n",
    "\n",
    "1. **order_id and user_id**:\n",
    "   - These columns appear to be identifiers, so there should be no concerns with their values as long as they are unique and non-missing.\n",
    "\n",
    "2. **order_number**:\n",
    "   - Min: 1, Max: 100\n",
    "   - This seems reasonable, as `order_number` likely represents the sequence of orders placed by a user.\n",
    "\n",
    "3. **day_of_week**:\n",
    "   - Min: 0, Max: 6\n",
    "   - This is consistent with representing days of the week, where 0 might represent Sunday and 6 represents Saturday.\n",
    "\n",
    "4. **order_hour_of_day**:\n",
    "   - Min: 0, Max: 23\n",
    "   - These values are within the expected range for hours in a day.\n",
    "\n",
    "5. **days_since_prior_order**:\n",
    "   - Min: 0, Max: 30\n",
    "   - The values range from 0 to 30 days, which seems plausible. However, if there are days with significantly higher gaps (like 30), it might indicate missing data or users with very infrequent orders. Further investigation might be warranted to understand the context of these values.\n",
    "\n",
    "### Summary of Potential Issues:\n",
    "- **days_since_prior_order**: Ensure that the higher values are consistent with the business logic or user behavior.\n",
    "- All other columns appear to be within expected ranges and do not indicate any immediate issues.\n"
   ]
  },
  {
   "cell_type": "markdown",
   "id": "e8171038",
   "metadata": {},
   "source": [
    "## Checking for Mixed-Type Data in df_ords\n"
   ]
  },
  {
   "cell_type": "code",
   "execution_count": 29,
   "id": "caa0a4fd",
   "metadata": {},
   "outputs": [],
   "source": [
    "# Check for mixed-type data in df_ords using the previously defined function\n",
    "check_mixed_types(df_ords)"
   ]
  },
  {
   "cell_type": "code",
   "execution_count": 30,
   "id": "7d945edf",
   "metadata": {},
   "outputs": [],
   "source": [
    "df_ords['order_id'] = df_ords['order_id'].astype(str)\n"
   ]
  },
  {
   "cell_type": "markdown",
   "id": "87e790d4",
   "metadata": {},
   "source": [
    "## Checking for Missing Values in df_ords\n"
   ]
  },
  {
   "cell_type": "markdown",
   "id": "6af7e36b",
   "metadata": {},
   "source": [
    "Now we will check for missing values in the df_ords dataframe. Here is the code to perform this check:"
   ]
  },
  {
   "cell_type": "code",
   "execution_count": 32,
   "id": "118552ef",
   "metadata": {},
   "outputs": [
    {
     "name": "stdout",
     "output_type": "stream",
     "text": [
      "order_id                       0\n",
      "user_id                        0\n",
      "order_number                   0\n",
      "day_of_week                    0\n",
      "order_hour_of_day              0\n",
      "days_since_prior_order    206209\n",
      "dtype: int64\n"
     ]
    }
   ],
   "source": [
    "# Check for missing values in df_ords\n",
    "missing_values_ords = df_ords.isnull().sum()\n",
    "print(missing_values_ords)"
   ]
  },
  {
   "cell_type": "markdown",
   "id": "0e72a61b",
   "metadata": {},
   "source": [
    "### Analysis of Missing Values in `df_ords`\n",
    "\n",
    "Based on the output from the `isnull().sum()` function, the following observations were made:\n",
    "\n",
    "- The `days_since_prior_order` column has 206,209 missing values.\n",
    "- All other columns (`order_id`, `user_id`, `order_number`, `day_of_week`, and `order_hour_of_day`) have no missing values.\n",
    "\n",
    "#### Explanation for Missing Values\n",
    "\n",
    "The missing values in the `days_since_prior_order` column are likely due to customers placing their first order. For these initial orders, there would be no prior order to reference, resulting in a missing value for the `days_since_prior_order` column.\n",
    "\n",
    "This is a reasonable explanation and aligns with expected behavior for new customers.\n"
   ]
  },
  {
   "cell_type": "code",
   "execution_count": 33,
   "id": "7ffefcf1",
   "metadata": {},
   "outputs": [],
   "source": [
    "# Fill missing values in 'days_since_prior_order' with 0\n",
    "df_ords['days_since_prior_order'].fillna(0, inplace=True)\n"
   ]
  },
  {
   "cell_type": "code",
   "execution_count": 34,
   "id": "83ae8210",
   "metadata": {},
   "outputs": [
    {
     "name": "stdout",
     "output_type": "stream",
     "text": [
      "Number of duplicate rows: 0\n"
     ]
    }
   ],
   "source": [
    "# Check for duplicate rows in df_ords\n",
    "duplicates_ords = df_ords.duplicated().sum()\n",
    "print(f\"Number of duplicate rows: {duplicates_ords}\")"
   ]
  },
  {
   "cell_type": "markdown",
   "id": "93958c8c",
   "metadata": {},
   "source": [
    "Since there are no duplicate rows in the `df_ords` dataframe, there are no duplicate values to address. This indicates that the data has been properly maintained and does not contain any redundant entries."
   ]
  },
  {
   "cell_type": "code",
   "execution_count": 36,
   "id": "f3595e1e",
   "metadata": {},
   "outputs": [],
   "source": [
    "# Export cleaned df_prods\n",
    "df_prods.to_csv(os.path.join(prepared_data_path, \"products_cleaned.csv\"), index=False)\n",
    "\n",
    "# Export cleaned df_ords\n",
    "df_ords.to_csv(os.path.join(prepared_data_path, \"orders_cleaned.csv\"), index=False)\n"
   ]
  },
  {
   "cell_type": "code",
   "execution_count": null,
   "id": "5b042d19",
   "metadata": {},
   "outputs": [],
   "source": []
  }
 ],
 "metadata": {
  "kernelspec": {
   "display_name": "Python 3 (ipykernel)",
   "language": "python",
   "name": "python3"
  },
  "language_info": {
   "codemirror_mode": {
    "name": "ipython",
    "version": 3
   },
   "file_extension": ".py",
   "mimetype": "text/x-python",
   "name": "python",
   "nbconvert_exporter": "python",
   "pygments_lexer": "ipython3",
   "version": "3.11.7"
  }
 },
 "nbformat": 4,
 "nbformat_minor": 5
}
