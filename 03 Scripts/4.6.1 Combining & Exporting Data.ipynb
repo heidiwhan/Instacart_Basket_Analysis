{
 "cells": [
  {
   "cell_type": "markdown",
   "id": "bd99ddf7",
   "metadata": {},
   "source": [
    "### Step 1: Import Libraries"
   ]
  },
  {
   "cell_type": "code",
   "execution_count": 2,
   "id": "57734373",
   "metadata": {},
   "outputs": [],
   "source": [
    "import pandas as pd\n",
    "import os\n"
   ]
  },
  {
   "cell_type": "markdown",
   "id": "82b26281",
   "metadata": {},
   "source": [
    "### Step 2: Define Project Paths"
   ]
  },
  {
   "cell_type": "code",
   "execution_count": 3,
   "id": "7086623e",
   "metadata": {},
   "outputs": [],
   "source": [
    "# Define the project path\n",
    "project_path = r\"C:\\Users\\mshhan\\Documents\\05-2024 Instacart Basket Analysis\\02 Data\"\n",
    "\n",
    "# Paths for the data files\n",
    "orders_path = os.path.join(project_path, \"Prepared Data\", \"orders_wrangled.csv\")\n",
    "orders_prior_path = os.path.join(project_path, \"Original Data\", \"orders_products_prior.csv\")\n"
   ]
  },
  {
   "cell_type": "markdown",
   "id": "a848530a",
   "metadata": {},
   "source": [
    "### Step 3: Load DataFrames"
   ]
  },
  {
   "cell_type": "code",
   "execution_count": 4,
   "id": "d4f06ebc",
   "metadata": {},
   "outputs": [],
   "source": [
    "# Load the orders data\n",
    "df_ords = pd.read_csv(orders_path)\n",
    "\n",
    "# Load the orders_products_prior data\n",
    "df_ords_prior = pd.read_csv(orders_prior_path)\n"
   ]
  },
  {
   "cell_type": "markdown",
   "id": "3b5f1900",
   "metadata": {},
   "source": [
    "### Step 4: Inspect DataFrames"
   ]
  },
  {
   "cell_type": "code",
   "execution_count": 5,
   "id": "40afa6e2",
   "metadata": {},
   "outputs": [
    {
     "name": "stdout",
     "output_type": "stream",
     "text": [
      "   order_id  user_id  order_number  day_of_week  order_hour_of_day  \\\n",
      "0   2539329        1             1            2                  8   \n",
      "1   2398795        1             2            3                  7   \n",
      "2    473747        1             3            3                 12   \n",
      "3   2254736        1             4            4                  7   \n",
      "4    431534        1             5            4                 15   \n",
      "\n",
      "   days_since_prior_order  \n",
      "0                     NaN  \n",
      "1                    15.0  \n",
      "2                    21.0  \n",
      "3                    29.0  \n",
      "4                    28.0  \n",
      "   order_id  product_id  add_to_cart_order  reordered\n",
      "0         2       33120                  1          1\n",
      "1         2       28985                  2          1\n",
      "2         2        9327                  3          0\n",
      "3         2       45918                  4          1\n",
      "4         2       30035                  5          0\n"
     ]
    }
   ],
   "source": [
    "# Inspect the first few rows of df_ords\n",
    "print(df_ords.head())\n",
    "\n",
    "# Inspect the first few rows of df_ords_prior\n",
    "print(df_ords_prior.head())\n"
   ]
  },
  {
   "cell_type": "markdown",
   "id": "595fe9a3",
   "metadata": {},
   "source": [
    "### Step 5: Check Dimensions"
   ]
  },
  {
   "cell_type": "code",
   "execution_count": 6,
   "id": "8f1d60a9",
   "metadata": {},
   "outputs": [
    {
     "name": "stdout",
     "output_type": "stream",
     "text": [
      "(3421083, 6)\n",
      "(32434489, 4)\n"
     ]
    }
   ],
   "source": [
    "# Check dimensions of df_ords\n",
    "print(df_ords.shape)\n",
    "\n",
    "# Check dimensions of df_ords_prior\n",
    "print(df_ords_prior.shape)\n"
   ]
  },
  {
   "cell_type": "markdown",
   "id": "edc43b5c",
   "metadata": {},
   "source": [
    "### Step 6: Merge DataFrames"
   ]
  },
  {
   "cell_type": "code",
   "execution_count": 8,
   "id": "046ead90",
   "metadata": {},
   "outputs": [],
   "source": [
    "# Merge df_ords with df_ords_prior on 'order_id'\n",
    "df_merged_large = df_ords.merge(df_ords_prior, on='order_id', indicator=True)\n",
    "\n"
   ]
  },
  {
   "cell_type": "markdown",
   "id": "802400b4",
   "metadata": {},
   "source": [
    "### Step 7: Inspect Merged DataFrame"
   ]
  },
  {
   "cell_type": "code",
   "execution_count": 9,
   "id": "341679f0",
   "metadata": {},
   "outputs": [
    {
     "name": "stdout",
     "output_type": "stream",
     "text": [
      "   order_id  user_id  order_number  day_of_week  order_hour_of_day  \\\n",
      "0   2539329        1             1            2                  8   \n",
      "1   2539329        1             1            2                  8   \n",
      "2   2539329        1             1            2                  8   \n",
      "3   2539329        1             1            2                  8   \n",
      "4   2539329        1             1            2                  8   \n",
      "\n",
      "   days_since_prior_order  product_id  add_to_cart_order  reordered _merge  \n",
      "0                     NaN         196                  1          0   both  \n",
      "1                     NaN       14084                  2          0   both  \n",
      "2                     NaN       12427                  3          0   both  \n",
      "3                     NaN       26088                  4          0   both  \n",
      "4                     NaN       26405                  5          0   both  \n",
      "_merge\n",
      "both          32434489\n",
      "left_only            0\n",
      "right_only           0\n",
      "Name: count, dtype: int64\n"
     ]
    }
   ],
   "source": [
    "# Inspect the first few rows of df_merged_large\n",
    "print(df_merged_large.head())\n",
    "\n",
    "# Check the merge indicator to ensure a full match\n",
    "print(df_merged_large['_merge'].value_counts())\n"
   ]
  },
  {
   "cell_type": "markdown",
   "id": "fcd6b8e9",
   "metadata": {},
   "source": [
    "### Step 8: Save the Merged DataFrame"
   ]
  },
  {
   "cell_type": "code",
   "execution_count": 10,
   "id": "921ef72a",
   "metadata": {},
   "outputs": [],
   "source": [
    "# Save the merged DataFrame to CSV\n",
    "df_merged_large.to_csv(os.path.join(project_path, \"Prepared Data\", \"orders_products_combined.csv\"), index=False)\n",
    "\n",
    "# Save the merged DataFrame to pickle\n",
    "df_merged_large.to_pickle(os.path.join(project_path, \"Prepared Data\", \"orders_products_combined.pkl\"))\n"
   ]
  }
 ],
 "metadata": {
  "kernelspec": {
   "display_name": "Python 3 (ipykernel)",
   "language": "python",
   "name": "python3"
  },
  "language_info": {
   "codemirror_mode": {
    "name": "ipython",
    "version": 3
   },
   "file_extension": ".py",
   "mimetype": "text/x-python",
   "name": "python",
   "nbconvert_exporter": "python",
   "pygments_lexer": "ipython3",
   "version": "3.11.7"
  }
 },
 "nbformat": 4,
 "nbformat_minor": 5
}
