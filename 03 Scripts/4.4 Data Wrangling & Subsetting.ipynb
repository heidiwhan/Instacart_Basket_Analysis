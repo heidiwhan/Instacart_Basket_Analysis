{
 "cells": [
  {
   "cell_type": "markdown",
   "id": "d666182a",
   "metadata": {},
   "source": [
    "# Data Wrangling and Analysis\n",
    "\n",
    "## Importing Libraries"
   ]
  },
  {
   "cell_type": "code",
   "execution_count": 1,
   "id": "c19c13e8",
   "metadata": {},
   "outputs": [],
   "source": [
    "# Importing necessary libraries\n",
    "import pandas as pd\n",
    "import numpy as np\n",
    "import os"
   ]
  },
  {
   "cell_type": "markdown",
   "id": "3cd80018",
   "metadata": {},
   "source": [
    "## Defining Project Path"
   ]
  },
  {
   "cell_type": "code",
   "execution_count": 2,
   "id": "d20e012f",
   "metadata": {},
   "outputs": [],
   "source": [
    "# Defining the project folder path using a raw string literal\n",
    "project_path = r\"C:\\Users\\mshhan\\Documents\\05-2024 Instacart Basket Analysis\\02 Data\\Original Data\"\n"
   ]
  },
  {
   "cell_type": "markdown",
   "id": "0250124b",
   "metadata": {},
   "source": [
    "## Importing Data"
   ]
  },
  {
   "cell_type": "code",
   "execution_count": 7,
   "id": "a168544a",
   "metadata": {},
   "outputs": [],
   "source": [
    "# Importing the orders.csv data set\n",
    "orders_path = os.path.join(project_path, \"orders.csv\")\n",
    "df_ords = pd.read_csv(orders_path, usecols=lambda column: column != 'eval_set')\n",
    "\n",
    "# Importing the products.csv data set\n",
    "products_path = os.path.join(project_path, \"products.csv\")\n",
    "df_prods = pd.read_csv(products_path)"
   ]
  },
  {
   "cell_type": "markdown",
   "id": "69e9ffa9",
   "metadata": {},
   "source": [
    "## Additional Data Wrangling Procedures"
   ]
  },
  {
   "cell_type": "code",
   "execution_count": 8,
   "id": "c213ee81",
   "metadata": {},
   "outputs": [],
   "source": [
    "# Changing the format of 'order_id' to string\n",
    "df_ords['order_id'] = df_ords['order_id'].astype(str)"
   ]
  },
  {
   "cell_type": "code",
   "execution_count": 9,
   "id": "c6787919",
   "metadata": {},
   "outputs": [],
   "source": [
    "# Renaming the 'order_dow' column to 'day_of_week'\n",
    "df_ords = df_ords.rename(columns={'order_dow': 'day_of_week'})"
   ]
  },
  {
   "cell_type": "code",
   "execution_count": 10,
   "id": "2a31cdc5",
   "metadata": {},
   "outputs": [
    {
     "name": "stdout",
     "output_type": "stream",
     "text": [
      "The busiest hour for placing orders is 10 with 288418 orders.\n"
     ]
    }
   ],
   "source": [
    "# Finding the busiest hour for placing orders\n",
    "busiest_hour = df_ords['order_hour_of_day'].value_counts().idxmax()\n",
    "busiest_hour_count = df_ords['order_hour_of_day'].value_counts().max()\n",
    "\n",
    "print(f\"The busiest hour for placing orders is {busiest_hour} with {busiest_hour_count} orders.\")\n"
   ]
  },
  {
   "cell_type": "markdown",
   "id": "3a0281ec",
   "metadata": {},
   "source": [
    "## Reformatting Data Dictionary"
   ]
  },
  {
   "cell_type": "code",
   "execution_count": 21,
   "id": "4621d0e5",
   "metadata": {},
   "outputs": [
    {
     "name": "stdout",
     "output_type": "stream",
     "text": [
      "  department_id       1      2       3        4        5              6  \\\n",
      "0    department  frozen  other  bakery  produce  alcohol  international   \n",
      "\n",
      "           7     8                9  ...            12      13         14  \\\n",
      "0  beverages  pets  dry goods pasta  ...  meat seafood  pantry  breakfast   \n",
      "\n",
      "             15          16         17      18      19    20       21  \n",
      "0  canned goods  dairy eggs  household  babies  snacks  deli  missing  \n",
      "\n",
      "[1 rows x 22 columns]\n",
      "The meaning of department_id 4 is produce.\n"
     ]
    }
   ],
   "source": [
    "# Assuming we have a data dictionary as a CSV file\n",
    "data_dict_path = os.path.join(project_path, \"departments.csv\")\n",
    "df_dep = pd.read_csv(data_dict_path)\n",
    "\n",
    "# Print the columns to understand the actual names\n",
    "print(df_dep.head())\n",
    "\n",
    "# Extract the department names from the first row\n",
    "department_names = df_dep.iloc[0, 1:].values.tolist()\n",
    "\n",
    "# Create a new dataframe with department_id and department_name\n",
    "department_ids = range(1, len(department_names) + 1)\n",
    "df_dep_t = pd.DataFrame({'department_id': department_ids, 'department_name': department_names})\n",
    "\n",
    "# Finding the meaning of the department_id value 4\n",
    "department_meaning = df_dep_t[df_dep_t['department_id'] == 4]['department_name'].values[0]\n",
    "print(f\"The meaning of department_id 4 is {department_meaning}.\")\n"
   ]
  },
  {
   "cell_type": "code",
   "execution_count": 22,
   "id": "552e0709",
   "metadata": {},
   "outputs": [],
   "source": [
    "# Creating a subset for breakfast items\n",
    "breakfast_items = df_prods[df_prods['department_id'] == df_dep_t[df_dep_t['department_name'] == 'breakfast']['department_id'].values[0]]\n"
   ]
  },
  {
   "cell_type": "code",
   "execution_count": 23,
   "id": "1dcbf0e6",
   "metadata": {},
   "outputs": [],
   "source": [
    "# Creating a subset for dinner party items\n",
    "dinner_party_items = df_prods[df_prods['department_id'].isin(df_dep_t[df_dep_t['department_name'].isin(['alcohol', 'deli', 'beverages', 'meat seafood'])]['department_id'].values)]\n"
   ]
  },
  {
   "cell_type": "code",
   "execution_count": 24,
   "id": "47b5443a",
   "metadata": {},
   "outputs": [
    {
     "name": "stdout",
     "output_type": "stream",
     "text": [
      "The dinner_party_items dataframe has 7650 rows.\n"
     ]
    }
   ],
   "source": [
    "# Counting the number of rows in the dinner_party_items dataframe\n",
    "num_rows_dinner_party = dinner_party_items.shape[0]\n",
    "print(f\"The dinner_party_items dataframe has {num_rows_dinner_party} rows.\")\n"
   ]
  },
  {
   "cell_type": "code",
   "execution_count": 25,
   "id": "5e5f71e7",
   "metadata": {},
   "outputs": [],
   "source": [
    "# Extracting information for user_id 1\n",
    "user_info = df_ords[df_ords['user_id'] == 1]\n"
   ]
  },
  {
   "cell_type": "code",
   "execution_count": 26,
   "id": "a43e4e1c",
   "metadata": {},
   "outputs": [
    {
     "name": "stdout",
     "output_type": "stream",
     "text": [
      "       user_id  order_number  day_of_week  order_hour_of_day  \\\n",
      "count     11.0     11.000000    11.000000          11.000000   \n",
      "mean       1.0      6.000000     2.636364          10.090909   \n",
      "std        0.0      3.316625     1.286291           3.477198   \n",
      "min        1.0      1.000000     1.000000           7.000000   \n",
      "25%        1.0      3.500000     1.500000           7.500000   \n",
      "50%        1.0      6.000000     3.000000           8.000000   \n",
      "75%        1.0      8.500000     4.000000          13.000000   \n",
      "max        1.0     11.000000     4.000000          16.000000   \n",
      "\n",
      "       days_since_prior_order  \n",
      "count               10.000000  \n",
      "mean                19.000000  \n",
      "std                  9.030811  \n",
      "min                  0.000000  \n",
      "25%                 14.250000  \n",
      "50%                 19.500000  \n",
      "75%                 26.250000  \n",
      "max                 30.000000  \n"
     ]
    }
   ],
   "source": [
    "# Basic stats for user_id 1\n",
    "user_stats = user_info.describe()\n",
    "print(user_stats)\n"
   ]
  },
  {
   "cell_type": "markdown",
   "id": "09d7bb04",
   "metadata": {},
   "source": [
    "## Exporting DataFrames"
   ]
  },
  {
   "cell_type": "code",
   "execution_count": 28,
   "id": "d535e08a",
   "metadata": {},
   "outputs": [],
   "source": [
    "# Exporting the df_ords dataframe\n",
    "prepared_data_path = os.path.join(project_path, \"..\", \"Prepared Data\")\n",
    "if not os.path.exists(prepared_data_path):\n",
    "    os.makedirs(prepared_data_path)\n",
    "df_ords.to_csv(os.path.join(prepared_data_path, \"orders_wrangled.csv\"), index=False)\n",
    "\n",
    "# Exporting the df_dep dataframe (assuming df_dep_t_new is the same as df_dep after renaming)\n",
    "df_dep_t.to_csv(os.path.join(prepared_data_path, \"departments_wrangled.csv\"), index=False)\n"
   ]
  }
 ],
 "metadata": {
  "kernelspec": {
   "display_name": "Python 3 (ipykernel)",
   "language": "python",
   "name": "python3"
  },
  "language_info": {
   "codemirror_mode": {
    "name": "ipython",
    "version": 3
   },
   "file_extension": ".py",
   "mimetype": "text/x-python",
   "name": "python",
   "nbconvert_exporter": "python",
   "pygments_lexer": "ipython3",
   "version": "3.11.7"
  }
 },
 "nbformat": 4,
 "nbformat_minor": 5
}
