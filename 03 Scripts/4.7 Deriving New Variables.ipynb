{
 "cells": [
  {
   "cell_type": "markdown",
   "id": "a744d777",
   "metadata": {},
   "source": [
    "# Deriving New Variables\n",
    "\n",
    "## Import Libraries and Data\n"
   ]
  },
  {
   "cell_type": "code",
   "execution_count": 7,
   "id": "da18769f",
   "metadata": {},
   "outputs": [
    {
     "name": "stdout",
     "output_type": "stream",
     "text": [
      "Shape of df_combined: (32434489, 10)\n",
      "Shape of df_prods: (49688, 5)\n",
      "Shape of df_final: (32433030, 15)\n"
     ]
    }
   ],
   "source": [
    "# Import necessary libraries\n",
    "import pandas as pd\n",
    "import os\n",
    "\n",
    "# Define the path to data directory\n",
    "path = r'C:\\Users\\mshhan\\Documents\\05-2024 Instacart Basket Analysis\\02 Data\\Prepared Data'\n",
    "\n",
    "# Import the orders_products_combined dataframe from the pickle file\n",
    "df_combined = pd.read_pickle(os.path.join(path, 'orders_products_combined.pkl'))\n",
    "\n",
    "# Check the shape of the imported dataframe\n",
    "print('Shape of df_combined:', df_combined.shape)\n",
    "\n",
    "# Import the cleaned products dataframe\n",
    "df_prods = pd.read_csv(os.path.join(path, 'products_cleaned.csv'))\n",
    "\n",
    "# Check the shape of the imported dataframe\n",
    "print('Shape of df_prods:', df_prods.shape)\n",
    "\n",
    "# Check if there is an existing _merge column in df_combined and rename it if necessary\n",
    "if '_merge' in df_combined.columns:\n",
    "    df_combined.rename(columns={'_merge': '_merge_existing'}, inplace=True)\n",
    "\n",
    "# Merge df_combined with df_prods on 'product_id'\n",
    "df_final = df_combined.merge(df_prods, on='product_id', indicator=True)\n",
    "\n",
    "# Check the shape of the merged dataframe\n",
    "print('Shape of df_final:', df_final.shape)\n"
   ]
  },
  {
   "cell_type": "markdown",
   "id": "2bddcb67",
   "metadata": {},
   "source": [
    "## Create a 'price_label' Column\n"
   ]
  },
  {
   "cell_type": "code",
   "execution_count": 8,
   "id": "1ca7fd3a",
   "metadata": {},
   "outputs": [
    {
     "name": "stdout",
     "output_type": "stream",
     "text": [
      "price_label\n",
      "Mid-range product     21889009\n",
      "Low-range product     10126339\n",
      "High-range product      417682\n",
      "Name: count, dtype: int64\n"
     ]
    }
   ],
   "source": [
    "# Function to label products based on price\n",
    "def price_label(row):\n",
    "    if row['prices'] <= 5:\n",
    "        return 'Low-range product'\n",
    "    elif (row['prices'] > 5) and (row['prices'] <= 15):\n",
    "        return 'Mid-range product'\n",
    "    elif row['prices'] > 15:\n",
    "        return 'High-range product'\n",
    "    else:\n",
    "        return 'Not enough data'\n",
    "\n",
    "# Apply the price_label function to create a new column in df_final\n",
    "df_final['price_label'] = df_final.apply(price_label, axis=1)\n",
    "\n",
    "# Check the value counts for the new column\n",
    "print(df_final['price_label'].value_counts())\n"
   ]
  },
  {
   "cell_type": "markdown",
   "id": "ca324926",
   "metadata": {},
   "source": [
    "## Create a 'busiest_day' Column\n"
   ]
  },
  {
   "cell_type": "code",
   "execution_count": 9,
   "id": "44f615dd",
   "metadata": {},
   "outputs": [
    {
     "name": "stdout",
     "output_type": "stream",
     "text": [
      "Index(['order_id', 'user_id', 'order_number', 'day_of_week',\n",
      "       'order_hour_of_day', 'days_since_prior_order', 'product_id',\n",
      "       'add_to_cart_order', 'reordered', '_merge_existing', 'product_name',\n",
      "       'aisle_id', 'department_id', 'prices', '_merge', 'price_label'],\n",
      "      dtype='object')\n"
     ]
    }
   ],
   "source": [
    "# Check the column names in df_final\n",
    "print(df_final.columns)\n"
   ]
  },
  {
   "cell_type": "code",
   "execution_count": 10,
   "id": "768ce380",
   "metadata": {},
   "outputs": [
    {
     "name": "stdout",
     "output_type": "stream",
     "text": [
      "day_of_week\n",
      "0    6209410\n",
      "1    5665604\n",
      "6    4500101\n",
      "2    4217610\n",
      "5    4209334\n",
      "3    3843929\n",
      "4    3787042\n",
      "Name: count, dtype: int64\n"
     ]
    },
    {
     "data": {
      "text/html": [
       "<div>\n",
       "<style scoped>\n",
       "    .dataframe tbody tr th:only-of-type {\n",
       "        vertical-align: middle;\n",
       "    }\n",
       "\n",
       "    .dataframe tbody tr th {\n",
       "        vertical-align: top;\n",
       "    }\n",
       "\n",
       "    .dataframe thead th {\n",
       "        text-align: right;\n",
       "    }\n",
       "</style>\n",
       "<table border=\"1\" class=\"dataframe\">\n",
       "  <thead>\n",
       "    <tr style=\"text-align: right;\">\n",
       "      <th></th>\n",
       "      <th>day_of_week</th>\n",
       "      <th>busiest_days_updated</th>\n",
       "    </tr>\n",
       "  </thead>\n",
       "  <tbody>\n",
       "    <tr>\n",
       "      <th>0</th>\n",
       "      <td>2</td>\n",
       "      <td>Regularly busy</td>\n",
       "    </tr>\n",
       "    <tr>\n",
       "      <th>1</th>\n",
       "      <td>3</td>\n",
       "      <td>Slowest days</td>\n",
       "    </tr>\n",
       "    <tr>\n",
       "      <th>2</th>\n",
       "      <td>3</td>\n",
       "      <td>Slowest days</td>\n",
       "    </tr>\n",
       "    <tr>\n",
       "      <th>3</th>\n",
       "      <td>4</td>\n",
       "      <td>Slowest days</td>\n",
       "    </tr>\n",
       "    <tr>\n",
       "      <th>4</th>\n",
       "      <td>4</td>\n",
       "      <td>Slowest days</td>\n",
       "    </tr>\n",
       "    <tr>\n",
       "      <th>5</th>\n",
       "      <td>2</td>\n",
       "      <td>Regularly busy</td>\n",
       "    </tr>\n",
       "    <tr>\n",
       "      <th>6</th>\n",
       "      <td>1</td>\n",
       "      <td>Busiest days</td>\n",
       "    </tr>\n",
       "    <tr>\n",
       "      <th>7</th>\n",
       "      <td>1</td>\n",
       "      <td>Busiest days</td>\n",
       "    </tr>\n",
       "    <tr>\n",
       "      <th>8</th>\n",
       "      <td>1</td>\n",
       "      <td>Busiest days</td>\n",
       "    </tr>\n",
       "    <tr>\n",
       "      <th>9</th>\n",
       "      <td>4</td>\n",
       "      <td>Slowest days</td>\n",
       "    </tr>\n",
       "    <tr>\n",
       "      <th>10</th>\n",
       "      <td>1</td>\n",
       "      <td>Busiest days</td>\n",
       "    </tr>\n",
       "    <tr>\n",
       "      <th>11</th>\n",
       "      <td>2</td>\n",
       "      <td>Regularly busy</td>\n",
       "    </tr>\n",
       "    <tr>\n",
       "      <th>12</th>\n",
       "      <td>2</td>\n",
       "      <td>Regularly busy</td>\n",
       "    </tr>\n",
       "    <tr>\n",
       "      <th>13</th>\n",
       "      <td>1</td>\n",
       "      <td>Busiest days</td>\n",
       "    </tr>\n",
       "    <tr>\n",
       "      <th>14</th>\n",
       "      <td>1</td>\n",
       "      <td>Busiest days</td>\n",
       "    </tr>\n",
       "    <tr>\n",
       "      <th>15</th>\n",
       "      <td>5</td>\n",
       "      <td>Regularly busy</td>\n",
       "    </tr>\n",
       "    <tr>\n",
       "      <th>16</th>\n",
       "      <td>6</td>\n",
       "      <td>Regularly busy</td>\n",
       "    </tr>\n",
       "    <tr>\n",
       "      <th>17</th>\n",
       "      <td>4</td>\n",
       "      <td>Slowest days</td>\n",
       "    </tr>\n",
       "    <tr>\n",
       "      <th>18</th>\n",
       "      <td>3</td>\n",
       "      <td>Slowest days</td>\n",
       "    </tr>\n",
       "    <tr>\n",
       "      <th>19</th>\n",
       "      <td>3</td>\n",
       "      <td>Slowest days</td>\n",
       "    </tr>\n",
       "  </tbody>\n",
       "</table>\n",
       "</div>"
      ],
      "text/plain": [
       "    day_of_week busiest_days_updated\n",
       "0             2       Regularly busy\n",
       "1             3         Slowest days\n",
       "2             3         Slowest days\n",
       "3             4         Slowest days\n",
       "4             4         Slowest days\n",
       "5             2       Regularly busy\n",
       "6             1         Busiest days\n",
       "7             1         Busiest days\n",
       "8             1         Busiest days\n",
       "9             4         Slowest days\n",
       "10            1         Busiest days\n",
       "11            2       Regularly busy\n",
       "12            2       Regularly busy\n",
       "13            1         Busiest days\n",
       "14            1         Busiest days\n",
       "15            5       Regularly busy\n",
       "16            6       Regularly busy\n",
       "17            4         Slowest days\n",
       "18            3         Slowest days\n",
       "19            3         Slowest days"
      ]
     },
     "execution_count": 10,
     "metadata": {},
     "output_type": "execute_result"
    }
   ],
   "source": [
    "# Frequency of days of the week\n",
    "day_counts = df_final['day_of_week'].value_counts()\n",
    "print(day_counts)\n",
    "\n",
    "# Creating the 'busiest_days_updated' column\n",
    "result = []\n",
    "for value in df_final['day_of_week']:\n",
    "    if value in [0, 1]:\n",
    "        result.append('Busiest days')\n",
    "    elif value in [3, 4]:\n",
    "        result.append('Slowest days')\n",
    "    else:\n",
    "        result.append('Regularly busy')\n",
    "\n",
    "df_final['busiest_days_updated'] = result\n",
    "\n",
    "# Check the values\n",
    "df_final[['day_of_week', 'busiest_days_updated']].head(20)\n"
   ]
  },
  {
   "cell_type": "markdown",
   "id": "b23a708d",
   "metadata": {},
   "source": [
    "# Updating 'busiest_day' Column to Reflect Two Busiest and Two Slowest Days\n"
   ]
  },
  {
   "cell_type": "code",
   "execution_count": 11,
   "id": "6e191a69",
   "metadata": {},
   "outputs": [
    {
     "name": "stdout",
     "output_type": "stream",
     "text": [
      "Shape of df_final: (32433030, 17)\n"
     ]
    }
   ],
   "source": [
    "# Define the path to data directory\n",
    "path = r'C:\\Users\\mshhan\\Documents\\05-2024 Instacart Basket Analysis\\02 Data\\Prepared Data'\n",
    "\n",
    "# Import the combined orders and products dataframe\n",
    "df_final = pd.read_pickle(os.path.join(path, 'ords_prods_merge.pkl'))\n",
    "\n",
    "# Check the shape of the imported dataframe\n",
    "print('Shape of df_final:', df_final.shape)"
   ]
  },
  {
   "cell_type": "markdown",
   "id": "86e53fe6",
   "metadata": {},
   "source": [
    "## Identify Two Busiest and Two Slowest Days\n"
   ]
  },
  {
   "cell_type": "code",
   "execution_count": 12,
   "id": "51f4faf5",
   "metadata": {},
   "outputs": [
    {
     "name": "stdout",
     "output_type": "stream",
     "text": [
      "Order frequency by day of week: day_of_week\n",
      "0    6209410\n",
      "1    5665604\n",
      "6    4500101\n",
      "2    4217610\n",
      "5    4209334\n",
      "3    3843929\n",
      "4    3787042\n",
      "Name: count, dtype: int64\n",
      "Busiest days: [0, 1]\n",
      "Slowest days: [3, 4]\n"
     ]
    }
   ],
   "source": [
    "# Calculate the order frequency for each day of the week\n",
    "order_freq = df_final['day_of_week'].value_counts().sort_values(ascending=False)\n",
    "print('Order frequency by day of week:', order_freq)\n",
    "\n",
    "# Identify the two busiest days\n",
    "busiest_days = order_freq.index[:2].tolist()\n",
    "print('Busiest days:', busiest_days)\n",
    "\n",
    "# Identify the two slowest days\n",
    "slowest_days = order_freq.index[-2:].tolist()\n",
    "print('Slowest days:', slowest_days)\n"
   ]
  },
  {
   "cell_type": "markdown",
   "id": "c72eb041",
   "metadata": {},
   "source": [
    "## Create New Column with Updated Labels"
   ]
  },
  {
   "cell_type": "code",
   "execution_count": 13,
   "id": "8e485a91",
   "metadata": {},
   "outputs": [
    {
     "name": "stdout",
     "output_type": "stream",
     "text": [
      "busiest_days_updated\n",
      "Regularly busy    12927045\n",
      "Busiest days      11875014\n",
      "Slowest days       7630971\n",
      "Name: count, dtype: int64\n"
     ]
    }
   ],
   "source": [
    "# Create an empty list to store the results\n",
    "result = []\n",
    "\n",
    "# For-loop to categorize days based on the new criteria\n",
    "for value in df_final['day_of_week']:\n",
    "    if value in busiest_days:\n",
    "        result.append('Busiest days')\n",
    "    elif value in slowest_days:\n",
    "        result.append('Slowest days')\n",
    "    else:\n",
    "        result.append('Regularly busy')\n",
    "\n",
    "# Add the results to a new column in df_final\n",
    "df_final['busiest_days_updated'] = result\n",
    "\n",
    "# Check the value counts for the new column\n",
    "print(df_final['busiest_days_updated'].value_counts())\n"
   ]
  },
  {
   "cell_type": "code",
   "execution_count": 14,
   "id": "33281b7f",
   "metadata": {},
   "outputs": [
    {
     "name": "stdout",
     "output_type": "stream",
     "text": [
      "          day_of_week busiest_days_updated\n",
      "1535190             5       Regularly busy\n",
      "18772978            1         Busiest days\n",
      "7519348             4         Slowest days\n",
      "30104107            0         Busiest days\n",
      "12960970            6       Regularly busy\n",
      "15354319            4         Slowest days\n",
      "18387073            2       Regularly busy\n",
      "11751154            1         Busiest days\n",
      "8783716             3         Slowest days\n",
      "8160334             2       Regularly busy\n",
      "15243296            2       Regularly busy\n",
      "9957983             1         Busiest days\n",
      "21610985            3         Slowest days\n",
      "2189360             6       Regularly busy\n",
      "25081236            2       Regularly busy\n",
      "27351433            2       Regularly busy\n",
      "9455580             2       Regularly busy\n",
      "11009577            4         Slowest days\n",
      "19502053            0         Busiest days\n",
      "8433832             0         Busiest days\n"
     ]
    }
   ],
   "source": [
    "# Display a sample of rows to manually verify the new column values\n",
    "sample = df_final[['day_of_week', 'busiest_days_updated']].sample(20)\n",
    "print(sample)\n"
   ]
  },
  {
   "cell_type": "code",
   "execution_count": 15,
   "id": "8123e2fb",
   "metadata": {},
   "outputs": [
    {
     "name": "stdout",
     "output_type": "stream",
     "text": [
      "day_of_week\n",
      "0    6209410\n",
      "1    5665604\n",
      "6    4500101\n",
      "2    4217610\n",
      "5    4209334\n",
      "3    3843929\n",
      "4    3787042\n",
      "Name: count, dtype: int64\n"
     ]
    }
   ],
   "source": [
    "# Compare with the original data to ensure the new labels are accurate\n",
    "# Display the order frequency by day of the week again\n",
    "order_freq = df_final['day_of_week'].value_counts().sort_values(ascending=False)\n",
    "print(order_freq)\n"
   ]
  },
  {
   "cell_type": "markdown",
   "id": "85b57650",
   "metadata": {},
   "source": [
    "## Exporting the Final Dataframe\n"
   ]
  },
  {
   "cell_type": "code",
   "execution_count": 16,
   "id": "b1837ed7",
   "metadata": {},
   "outputs": [],
   "source": [
    "# Export the final dataframe as a pickle file\n",
    "df_final.to_pickle(os.path.join(path, 'ords_prods_merge.pkl'))\n",
    "\n",
    "# Export the final dataframe as a CSV file\n",
    "df_final.to_csv(os.path.join(path, 'ords_prods_merge.csv'))\n"
   ]
  },
  {
   "cell_type": "markdown",
   "id": "beb12081",
   "metadata": {},
   "source": [
    "\n",
    "### Analysis\n",
    "\n",
    "- **Busiest Days (0 and 1)**:\n",
    "  - The days with the highest order counts are day 0 (Saturday) with 6,209,410 orders and day 1 (Sunday) with 5,665,604 orders.\n",
    "  - In the sample, these days are correctly labeled as \"Busiest days\".\n",
    "\n",
    "- **Slowest Days (3 and 4)**:\n",
    "  - The days with the lowest order counts are day 3 (Wednesday) with 3,843,929 orders and day 4 (Thursday) with 3,787,042 orders.\n",
    "  - In the sample, these days are correctly labeled as \"Slowest days\".\n",
    "\n",
    "- **Regularly Busy Days (2, 5, 6)**:\n",
    "  - The remaining days are day 2 (Tuesday), day 5 (Friday), and day 6 (Monday) with order counts of 4,217,610, 4,209,334, and 4,500,101 respectively.\n",
    "  - In the sample, these days are correctly labeled as \"Regularly busy\".\n",
    "\n",
    "The values in the new column 'busiest_days_updated' appear to be accurate based on the day of the week order frequencies and the sample inspection. The labels correctly correspond to the two busiest days, the two slowest days, and the regularly busy days.\n"
   ]
  },
  {
   "cell_type": "markdown",
   "id": "e6ba8051",
   "metadata": {},
   "source": [
    "# Identifying the Busiest Periods of the Day\n",
    "\n",
    "## Introduction\n",
    "To prevent the Instacart app from freezing during peak times, we need to identify the busiest hours of the day. We'll create a new column, `busiest_period_of_day`, with the labels \"Most orders,\" \"Average orders,\" and \"Fewest orders\" based on the number of orders per hour."
   ]
  },
  {
   "cell_type": "code",
   "execution_count": 17,
   "id": "7ebbb815",
   "metadata": {},
   "outputs": [
    {
     "data": {
      "text/html": [
       "<div>\n",
       "<style scoped>\n",
       "    .dataframe tbody tr th:only-of-type {\n",
       "        vertical-align: middle;\n",
       "    }\n",
       "\n",
       "    .dataframe tbody tr th {\n",
       "        vertical-align: top;\n",
       "    }\n",
       "\n",
       "    .dataframe thead th {\n",
       "        text-align: right;\n",
       "    }\n",
       "</style>\n",
       "<table border=\"1\" class=\"dataframe\">\n",
       "  <thead>\n",
       "    <tr style=\"text-align: right;\">\n",
       "      <th></th>\n",
       "      <th>order_id</th>\n",
       "      <th>user_id</th>\n",
       "      <th>order_number</th>\n",
       "      <th>day_of_week</th>\n",
       "      <th>order_hour_of_day</th>\n",
       "      <th>days_since_prior_order</th>\n",
       "      <th>product_id</th>\n",
       "      <th>add_to_cart_order</th>\n",
       "      <th>reordered</th>\n",
       "      <th>_merge_existing</th>\n",
       "      <th>product_name</th>\n",
       "      <th>aisle_id</th>\n",
       "      <th>department_id</th>\n",
       "      <th>prices</th>\n",
       "      <th>_merge</th>\n",
       "      <th>price_label</th>\n",
       "      <th>busiest_day</th>\n",
       "      <th>busiest_days_updated</th>\n",
       "    </tr>\n",
       "  </thead>\n",
       "  <tbody>\n",
       "    <tr>\n",
       "      <th>0</th>\n",
       "      <td>2539329</td>\n",
       "      <td>1</td>\n",
       "      <td>1</td>\n",
       "      <td>2</td>\n",
       "      <td>8</td>\n",
       "      <td>NaN</td>\n",
       "      <td>196</td>\n",
       "      <td>1</td>\n",
       "      <td>0</td>\n",
       "      <td>both</td>\n",
       "      <td>Soda</td>\n",
       "      <td>77</td>\n",
       "      <td>7</td>\n",
       "      <td>9.0</td>\n",
       "      <td>both</td>\n",
       "      <td>Mid-range product</td>\n",
       "      <td>Regularly busy</td>\n",
       "      <td>Regularly busy</td>\n",
       "    </tr>\n",
       "    <tr>\n",
       "      <th>1</th>\n",
       "      <td>2398795</td>\n",
       "      <td>1</td>\n",
       "      <td>2</td>\n",
       "      <td>3</td>\n",
       "      <td>7</td>\n",
       "      <td>15.0</td>\n",
       "      <td>196</td>\n",
       "      <td>1</td>\n",
       "      <td>1</td>\n",
       "      <td>both</td>\n",
       "      <td>Soda</td>\n",
       "      <td>77</td>\n",
       "      <td>7</td>\n",
       "      <td>9.0</td>\n",
       "      <td>both</td>\n",
       "      <td>Mid-range product</td>\n",
       "      <td>Regularly busy</td>\n",
       "      <td>Slowest days</td>\n",
       "    </tr>\n",
       "    <tr>\n",
       "      <th>2</th>\n",
       "      <td>473747</td>\n",
       "      <td>1</td>\n",
       "      <td>3</td>\n",
       "      <td>3</td>\n",
       "      <td>12</td>\n",
       "      <td>21.0</td>\n",
       "      <td>196</td>\n",
       "      <td>1</td>\n",
       "      <td>1</td>\n",
       "      <td>both</td>\n",
       "      <td>Soda</td>\n",
       "      <td>77</td>\n",
       "      <td>7</td>\n",
       "      <td>9.0</td>\n",
       "      <td>both</td>\n",
       "      <td>Mid-range product</td>\n",
       "      <td>Regularly busy</td>\n",
       "      <td>Slowest days</td>\n",
       "    </tr>\n",
       "    <tr>\n",
       "      <th>3</th>\n",
       "      <td>2254736</td>\n",
       "      <td>1</td>\n",
       "      <td>4</td>\n",
       "      <td>4</td>\n",
       "      <td>7</td>\n",
       "      <td>29.0</td>\n",
       "      <td>196</td>\n",
       "      <td>1</td>\n",
       "      <td>1</td>\n",
       "      <td>both</td>\n",
       "      <td>Soda</td>\n",
       "      <td>77</td>\n",
       "      <td>7</td>\n",
       "      <td>9.0</td>\n",
       "      <td>both</td>\n",
       "      <td>Mid-range product</td>\n",
       "      <td>Least busy</td>\n",
       "      <td>Slowest days</td>\n",
       "    </tr>\n",
       "    <tr>\n",
       "      <th>4</th>\n",
       "      <td>431534</td>\n",
       "      <td>1</td>\n",
       "      <td>5</td>\n",
       "      <td>4</td>\n",
       "      <td>15</td>\n",
       "      <td>28.0</td>\n",
       "      <td>196</td>\n",
       "      <td>1</td>\n",
       "      <td>1</td>\n",
       "      <td>both</td>\n",
       "      <td>Soda</td>\n",
       "      <td>77</td>\n",
       "      <td>7</td>\n",
       "      <td>9.0</td>\n",
       "      <td>both</td>\n",
       "      <td>Mid-range product</td>\n",
       "      <td>Least busy</td>\n",
       "      <td>Slowest days</td>\n",
       "    </tr>\n",
       "  </tbody>\n",
       "</table>\n",
       "</div>"
      ],
      "text/plain": [
       "   order_id  user_id  order_number  day_of_week  order_hour_of_day  \\\n",
       "0   2539329        1             1            2                  8   \n",
       "1   2398795        1             2            3                  7   \n",
       "2    473747        1             3            3                 12   \n",
       "3   2254736        1             4            4                  7   \n",
       "4    431534        1             5            4                 15   \n",
       "\n",
       "   days_since_prior_order  product_id  add_to_cart_order  reordered  \\\n",
       "0                     NaN         196                  1          0   \n",
       "1                    15.0         196                  1          1   \n",
       "2                    21.0         196                  1          1   \n",
       "3                    29.0         196                  1          1   \n",
       "4                    28.0         196                  1          1   \n",
       "\n",
       "  _merge_existing product_name  aisle_id  department_id  prices _merge  \\\n",
       "0            both         Soda        77              7     9.0   both   \n",
       "1            both         Soda        77              7     9.0   both   \n",
       "2            both         Soda        77              7     9.0   both   \n",
       "3            both         Soda        77              7     9.0   both   \n",
       "4            both         Soda        77              7     9.0   both   \n",
       "\n",
       "         price_label     busiest_day busiest_days_updated  \n",
       "0  Mid-range product  Regularly busy       Regularly busy  \n",
       "1  Mid-range product  Regularly busy         Slowest days  \n",
       "2  Mid-range product  Regularly busy         Slowest days  \n",
       "3  Mid-range product      Least busy         Slowest days  \n",
       "4  Mid-range product      Least busy         Slowest days  "
      ]
     },
     "execution_count": 17,
     "metadata": {},
     "output_type": "execute_result"
    }
   ],
   "source": [
    "df_final.head()\n"
   ]
  },
  {
   "cell_type": "markdown",
   "id": "b08fd087",
   "metadata": {},
   "source": [
    "## Calculate Order Frequency by Hour of Day"
   ]
  },
  {
   "cell_type": "code",
   "execution_count": 18,
   "id": "2444473f",
   "metadata": {},
   "outputs": [
    {
     "name": "stdout",
     "output_type": "stream",
     "text": [
      "order_hour_of_day\n",
      "0      218925\n",
      "1      115780\n",
      "2       69429\n",
      "3       51317\n",
      "4       53280\n",
      "5       88054\n",
      "6      290763\n",
      "7      891900\n",
      "8     1719888\n",
      "9     2456591\n",
      "10    2764288\n",
      "11    2738483\n",
      "12    2620719\n",
      "13    2663169\n",
      "14    2691448\n",
      "15    2664420\n",
      "16    2537358\n",
      "17    2089385\n",
      "18    1637858\n",
      "19    1259335\n",
      "20     976991\n",
      "21     796341\n",
      "22     634715\n",
      "23     402593\n",
      "Name: count, dtype: int64\n"
     ]
    }
   ],
   "source": [
    "# Calculate the frequency of orders for each hour of the day\n",
    "order_hour_frequency = df_final['order_hour_of_day'].value_counts().sort_index()\n",
    "\n",
    "# Display the order frequency by hour of day\n",
    "print(order_hour_frequency)\n"
   ]
  },
  {
   "cell_type": "markdown",
   "id": "c83f08ff",
   "metadata": {},
   "source": [
    "## Determine the Thresholds for \"Most orders,\" \"Average orders,\" and \"Fewest orders\""
   ]
  },
  {
   "cell_type": "code",
   "execution_count": 19,
   "id": "a8879dbb",
   "metadata": {},
   "outputs": [
    {
     "name": "stdout",
     "output_type": "stream",
     "text": [
      "Most orders threshold: 2558198.25\n",
      "Fewest orders threshold: 272803.5\n"
     ]
    }
   ],
   "source": [
    "# Describe the order frequency to understand distribution\n",
    "order_hour_description = order_hour_frequency.describe()\n",
    "\n",
    "# Define thresholds based on quantiles\n",
    "most_orders_threshold = order_hour_description['75%']  # Top 25%\n",
    "fewest_orders_threshold = order_hour_description['25%']  # Bottom 25%\n",
    "\n",
    "print(\"Most orders threshold:\", most_orders_threshold)\n",
    "print(\"Fewest orders threshold:\", fewest_orders_threshold)\n"
   ]
  },
  {
   "cell_type": "markdown",
   "id": "a56cafee",
   "metadata": {},
   "source": [
    "## Create the busiest_period_of_day Column"
   ]
  },
  {
   "cell_type": "code",
   "execution_count": 24,
   "id": "cb40eb6e",
   "metadata": {},
   "outputs": [
    {
     "name": "stdout",
     "output_type": "stream",
     "text": [
      "order_hour_of_day\n",
      "10    2764288\n",
      "11    2738483\n",
      "14    2691448\n",
      "15    2664420\n",
      "13    2663169\n",
      "12    2620719\n",
      "16    2537358\n",
      "9     2456591\n",
      "17    2089385\n",
      "8     1719888\n",
      "18    1637858\n",
      "19    1259335\n",
      "20     976991\n",
      "7      891900\n",
      "21     796341\n",
      "22     634715\n",
      "23     402593\n",
      "6      290763\n",
      "0      218925\n",
      "1      115780\n",
      "5       88054\n",
      "2       69429\n",
      "4       53280\n",
      "3       51317\n",
      "Name: count, dtype: int64\n"
     ]
    },
    {
     "data": {
      "text/html": [
       "<div>\n",
       "<style scoped>\n",
       "    .dataframe tbody tr th:only-of-type {\n",
       "        vertical-align: middle;\n",
       "    }\n",
       "\n",
       "    .dataframe tbody tr th {\n",
       "        vertical-align: top;\n",
       "    }\n",
       "\n",
       "    .dataframe thead th {\n",
       "        text-align: right;\n",
       "    }\n",
       "</style>\n",
       "<table border=\"1\" class=\"dataframe\">\n",
       "  <thead>\n",
       "    <tr style=\"text-align: right;\">\n",
       "      <th></th>\n",
       "      <th>order_hour_of_day</th>\n",
       "      <th>busiest_period_of_day</th>\n",
       "    </tr>\n",
       "  </thead>\n",
       "  <tbody>\n",
       "    <tr>\n",
       "      <th>0</th>\n",
       "      <td>8</td>\n",
       "      <td>Average orders</td>\n",
       "    </tr>\n",
       "    <tr>\n",
       "      <th>1</th>\n",
       "      <td>7</td>\n",
       "      <td>Average orders</td>\n",
       "    </tr>\n",
       "    <tr>\n",
       "      <th>2</th>\n",
       "      <td>12</td>\n",
       "      <td>Most orders</td>\n",
       "    </tr>\n",
       "    <tr>\n",
       "      <th>3</th>\n",
       "      <td>7</td>\n",
       "      <td>Average orders</td>\n",
       "    </tr>\n",
       "    <tr>\n",
       "      <th>4</th>\n",
       "      <td>15</td>\n",
       "      <td>Most orders</td>\n",
       "    </tr>\n",
       "    <tr>\n",
       "      <th>5</th>\n",
       "      <td>7</td>\n",
       "      <td>Average orders</td>\n",
       "    </tr>\n",
       "    <tr>\n",
       "      <th>6</th>\n",
       "      <td>9</td>\n",
       "      <td>Average orders</td>\n",
       "    </tr>\n",
       "    <tr>\n",
       "      <th>7</th>\n",
       "      <td>14</td>\n",
       "      <td>Most orders</td>\n",
       "    </tr>\n",
       "    <tr>\n",
       "      <th>8</th>\n",
       "      <td>16</td>\n",
       "      <td>Most orders</td>\n",
       "    </tr>\n",
       "    <tr>\n",
       "      <th>9</th>\n",
       "      <td>8</td>\n",
       "      <td>Average orders</td>\n",
       "    </tr>\n",
       "    <tr>\n",
       "      <th>10</th>\n",
       "      <td>9</td>\n",
       "      <td>Average orders</td>\n",
       "    </tr>\n",
       "    <tr>\n",
       "      <th>11</th>\n",
       "      <td>16</td>\n",
       "      <td>Most orders</td>\n",
       "    </tr>\n",
       "    <tr>\n",
       "      <th>12</th>\n",
       "      <td>11</td>\n",
       "      <td>Most orders</td>\n",
       "    </tr>\n",
       "    <tr>\n",
       "      <th>13</th>\n",
       "      <td>9</td>\n",
       "      <td>Average orders</td>\n",
       "    </tr>\n",
       "    <tr>\n",
       "      <th>14</th>\n",
       "      <td>10</td>\n",
       "      <td>Most orders</td>\n",
       "    </tr>\n",
       "    <tr>\n",
       "      <th>15</th>\n",
       "      <td>14</td>\n",
       "      <td>Most orders</td>\n",
       "    </tr>\n",
       "    <tr>\n",
       "      <th>16</th>\n",
       "      <td>12</td>\n",
       "      <td>Most orders</td>\n",
       "    </tr>\n",
       "    <tr>\n",
       "      <th>17</th>\n",
       "      <td>17</td>\n",
       "      <td>Average orders</td>\n",
       "    </tr>\n",
       "    <tr>\n",
       "      <th>18</th>\n",
       "      <td>10</td>\n",
       "      <td>Most orders</td>\n",
       "    </tr>\n",
       "    <tr>\n",
       "      <th>19</th>\n",
       "      <td>8</td>\n",
       "      <td>Average orders</td>\n",
       "    </tr>\n",
       "  </tbody>\n",
       "</table>\n",
       "</div>"
      ],
      "text/plain": [
       "    order_hour_of_day busiest_period_of_day\n",
       "0                   8        Average orders\n",
       "1                   7        Average orders\n",
       "2                  12           Most orders\n",
       "3                   7        Average orders\n",
       "4                  15           Most orders\n",
       "5                   7        Average orders\n",
       "6                   9        Average orders\n",
       "7                  14           Most orders\n",
       "8                  16           Most orders\n",
       "9                   8        Average orders\n",
       "10                  9        Average orders\n",
       "11                 16           Most orders\n",
       "12                 11           Most orders\n",
       "13                  9        Average orders\n",
       "14                 10           Most orders\n",
       "15                 14           Most orders\n",
       "16                 12           Most orders\n",
       "17                 17        Average orders\n",
       "18                 10           Most orders\n",
       "19                  8        Average orders"
      ]
     },
     "execution_count": 24,
     "metadata": {},
     "output_type": "execute_result"
    }
   ],
   "source": [
    "# Frequency of order hours\n",
    "hour_counts = df_final['order_hour_of_day'].value_counts()\n",
    "print(hour_counts)\n",
    "\n",
    "# Creating the 'busiest_period_of_day' column\n",
    "result = []\n",
    "for value in df_final['order_hour_of_day']:\n",
    "    if 10 <= value <= 16:  # Most orders: 10 AM to 4 PM\n",
    "        result.append('Most orders')\n",
    "    elif 6 <= value < 10 or 17 <= value < 21:  # Average orders: 6 AM to 9 AM and 5 PM to 8 PM\n",
    "        result.append('Average orders')\n",
    "    else:  # Fewest orders: all other times\n",
    "        result.append('Fewest orders')\n",
    "\n",
    "df_final['busiest_period_of_day'] = result\n",
    "\n",
    "# Check the values\n",
    "df_final[['order_hour_of_day', 'busiest_period_of_day']].head(20)\n",
    "\n"
   ]
  },
  {
   "cell_type": "markdown",
   "id": "559c253a",
   "metadata": {},
   "source": [
    "### Verify the New Column"
   ]
  },
  {
   "cell_type": "markdown",
   "id": "8abbcb4d",
   "metadata": {},
   "source": [
    "Print the Frequency for `busiest_period_of_day` Column"
   ]
  },
  {
   "cell_type": "code",
   "execution_count": 26,
   "id": "7c27d4da",
   "metadata": {},
   "outputs": [
    {
     "name": "stdout",
     "output_type": "stream",
     "text": [
      "busiest_period_of_day\n",
      "Most orders       18679885\n",
      "Average orders    11322711\n",
      "Fewest orders      2430434\n",
      "Name: count, dtype: int64\n"
     ]
    }
   ],
   "source": [
    "# Print the frequency of the new column\n",
    "busiest_period_freq = df_final['busiest_period_of_day'].value_counts()\n",
    "print(busiest_period_freq)\n"
   ]
  },
  {
   "cell_type": "code",
   "execution_count": 27,
   "id": "79207afd",
   "metadata": {},
   "outputs": [
    {
     "name": "stdout",
     "output_type": "stream",
     "text": [
      "['departments_wrangled.csv', 'orders_cleaned.csv', 'orders_products_combined.csv', 'orders_products_combined.pkl', 'orders_wrangled.csv', 'ords_prods_merge.csv', 'ords_prods_merge.pkl', 'ords_prods_updated.pkl', 'products_cleaned.csv']\n"
     ]
    }
   ],
   "source": [
    "#Export the Dataframe as a Pickle File\n",
    "# Export the updated dataframe as a pickle file\n",
    "df_final.to_pickle(f'{path}\\\\ords_prods_updated.pkl')\n",
    "\n",
    "# Confirm the export by listing the files in the directory\n",
    "print(os.listdir(f'{path}'))"
   ]
  },
  {
   "cell_type": "code",
   "execution_count": null,
   "id": "c8b4069c",
   "metadata": {},
   "outputs": [],
   "source": []
  }
 ],
 "metadata": {
  "kernelspec": {
   "display_name": "Python 3 (ipykernel)",
   "language": "python",
   "name": "python3"
  },
  "language_info": {
   "codemirror_mode": {
    "name": "ipython",
    "version": 3
   },
   "file_extension": ".py",
   "mimetype": "text/x-python",
   "name": "python",
   "nbconvert_exporter": "python",
   "pygments_lexer": "ipython3",
   "version": "3.11.7"
  }
 },
 "nbformat": 4,
 "nbformat_minor": 5
}
