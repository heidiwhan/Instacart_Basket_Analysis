{
 "cells": [
  {
   "cell_type": "markdown",
   "id": "63bd67fb",
   "metadata": {},
   "source": [
    "### Step 1: Import Libraries"
   ]
  },
  {
   "cell_type": "code",
   "execution_count": 1,
   "id": "d429611b",
   "metadata": {},
   "outputs": [],
   "source": [
    "import pandas as pd\n",
    "import os"
   ]
  },
  {
   "cell_type": "markdown",
   "id": "19bc44eb",
   "metadata": {},
   "source": [
    "### Step 2: Define Project Paths"
   ]
  },
  {
   "cell_type": "code",
   "execution_count": 2,
   "id": "7ffe5c27",
   "metadata": {},
   "outputs": [],
   "source": [
    "# Define the project path\n",
    "project_path = r\"C:\\Users\\mshhan\\Documents\\05-2024 Instacart Basket Analysis\\02 Data\"\n",
    "\n",
    "# Paths for the data files\n",
    "combined_pickle_path = os.path.join(project_path, \"Prepared Data\", \"orders_products_combined.pkl\")\n",
    "products_path = os.path.join(project_path, \"Prepared Data\", \"products_cleaned.csv\")\n"
   ]
  },
  {
   "cell_type": "markdown",
   "id": "8c2a5629",
   "metadata": {},
   "source": [
    "### Step 3: Load the Merged DataFrame from Pickle"
   ]
  },
  {
   "cell_type": "code",
   "execution_count": 3,
   "id": "55e01750",
   "metadata": {},
   "outputs": [],
   "source": [
    "# Load the combined orders and products data\n",
    "df_combined = pd.read_pickle(combined_pickle_path)\n"
   ]
  },
  {
   "cell_type": "markdown",
   "id": "2b0ea643",
   "metadata": {},
   "source": [
    "### Step 4: Check the Shape of the Imported DataFrame"
   ]
  },
  {
   "cell_type": "code",
   "execution_count": 4,
   "id": "d5d622c5",
   "metadata": {},
   "outputs": [
    {
     "name": "stdout",
     "output_type": "stream",
     "text": [
      "(32434489, 10)\n"
     ]
    }
   ],
   "source": [
    "# Check dimensions of df_combined\n",
    "print(df_combined.shape)\n"
   ]
  },
  {
   "cell_type": "markdown",
   "id": "1c232db3",
   "metadata": {},
   "source": [
    "### Step 5: Load the Cleaned Products Data"
   ]
  },
  {
   "cell_type": "code",
   "execution_count": 5,
   "id": "112d7af7",
   "metadata": {},
   "outputs": [],
   "source": [
    "# Load the cleaned products data\n",
    "df_prods = pd.read_csv(products_path)\n"
   ]
  },
  {
   "cell_type": "markdown",
   "id": "4ebcda31",
   "metadata": {},
   "source": [
    "### Step 6: Determine a Suitable Way to Combine DataFrames"
   ]
  },
  {
   "cell_type": "code",
   "execution_count": 7,
   "id": "b1379697",
   "metadata": {},
   "outputs": [],
   "source": [
    "# Merge df_combined with df_prods on 'product_id', specifying a different name for the indicator column\n",
    "df_final = df_combined.merge(df_prods, on='product_id', indicator='merge_indicator')\n"
   ]
  },
  {
   "cell_type": "markdown",
   "id": "3dbf17e5",
   "metadata": {},
   "source": [
    "### Step 7: Inspect the Merged DataFrame"
   ]
  },
  {
   "cell_type": "code",
   "execution_count": 8,
   "id": "b58337d4",
   "metadata": {},
   "outputs": [
    {
     "name": "stdout",
     "output_type": "stream",
     "text": [
      "   order_id  user_id  order_number  day_of_week  order_hour_of_day  \\\n",
      "0   2539329        1             1            2                  8   \n",
      "1   2398795        1             2            3                  7   \n",
      "2    473747        1             3            3                 12   \n",
      "3   2254736        1             4            4                  7   \n",
      "4    431534        1             5            4                 15   \n",
      "\n",
      "   days_since_prior_order  product_id  add_to_cart_order  reordered _merge  \\\n",
      "0                     NaN         196                  1          0   both   \n",
      "1                    15.0         196                  1          1   both   \n",
      "2                    21.0         196                  1          1   both   \n",
      "3                    29.0         196                  1          1   both   \n",
      "4                    28.0         196                  1          1   both   \n",
      "\n",
      "  product_name  aisle_id  department_id  prices merge_indicator  \n",
      "0         Soda        77              7     9.0            both  \n",
      "1         Soda        77              7     9.0            both  \n",
      "2         Soda        77              7     9.0            both  \n",
      "3         Soda        77              7     9.0            both  \n",
      "4         Soda        77              7     9.0            both  \n",
      "merge_indicator\n",
      "both          32433030\n",
      "left_only            0\n",
      "right_only           0\n",
      "Name: count, dtype: int64\n"
     ]
    }
   ],
   "source": [
    "# Inspect the first few rows of df_final\n",
    "print(df_final.head())\n",
    "\n",
    "# Check the merge indicator to ensure a full match\n",
    "print(df_final['merge_indicator'].value_counts())\n"
   ]
  },
  {
   "cell_type": "markdown",
   "id": "1bc05dda",
   "metadata": {},
   "source": [
    "### Step 8: Export the Merged DataFrame"
   ]
  },
  {
   "cell_type": "code",
   "execution_count": 9,
   "id": "69ecc8f5",
   "metadata": {},
   "outputs": [],
   "source": [
    "# Define the export path for the merged DataFrame\n",
    "export_path = os.path.join(project_path, \"Prepared Data\", \"ords_prods_merge.pkl\")\n",
    "\n",
    "# Export the merged DataFrame to pickle format\n",
    "df_final.to_pickle(export_path)\n"
   ]
  },
  {
   "cell_type": "markdown",
   "id": "df53cf43",
   "metadata": {},
   "source": [
    "### Step 9: Ensure Notebooks and Project Folder are Organized"
   ]
  },
  {
   "cell_type": "code",
   "execution_count": 10,
   "id": "034f6fcf",
   "metadata": {},
   "outputs": [],
   "source": [
    "# Define the export path for the merged DataFrame in CSV format\n",
    "export_path_csv = os.path.join(project_path, \"Prepared Data\", \"ords_prods_merge.csv\")\n",
    "\n",
    "# Export the merged DataFrame to CSV format\n",
    "df_final.to_csv(export_path_csv, index=False)\n"
   ]
  },
  {
   "cell_type": "code",
   "execution_count": null,
   "id": "2c99dd53",
   "metadata": {},
   "outputs": [],
   "source": []
  }
 ],
 "metadata": {
  "kernelspec": {
   "display_name": "Python 3 (ipykernel)",
   "language": "python",
   "name": "python3"
  },
  "language_info": {
   "codemirror_mode": {
    "name": "ipython",
    "version": 3
   },
   "file_extension": ".py",
   "mimetype": "text/x-python",
   "name": "python",
   "nbconvert_exporter": "python",
   "pygments_lexer": "ipython3",
   "version": "3.11.7"
  }
 },
 "nbformat": 4,
 "nbformat_minor": 5
}
